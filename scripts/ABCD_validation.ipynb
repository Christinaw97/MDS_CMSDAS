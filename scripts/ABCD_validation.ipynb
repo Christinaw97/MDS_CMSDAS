{
 "cells": [
  {
   "cell_type": "code",
   "execution_count": 1,
   "metadata": {},
   "outputs": [
    {
     "name": "stdout",
     "output_type": "stream",
     "text": [
      "Welcome to JupyROOT 6.28/00\n",
      "3.9.12 (main, Jun  7 2022, 16:09:12) \n",
      "[GCC 11.2.0]\n"
     ]
    }
   ],
   "source": [
    "import ROOT as rt\n",
    "# import root_numpy as rtnp\n",
    "import csv\n",
    "import re\n",
    "import sys\n",
    "import collections\n",
    "\n",
    "from collections import OrderedDict\n",
    "import uproot\n",
    "import pandas as pd\n",
    "# from root_numpy import array2tree\n",
    "\n",
    "\n",
    "import scipy\n",
    "import awkward\n",
    "import numpy as np\n",
    "import time\n",
    "import numpy as np\n",
    "from scipy.stats import norm\n",
    "import math\n",
    "# import CMS_lumi, tdrstyle\n",
    "import sys\n",
    "sys.path.append(\"/uscms_data/d3/christiw/MDS_CMSDAS2023/lib\")\n",
    "import tdrstyle\n",
    "style = tdrstyle.setTDRStyle()\n",
    "# CMS_lumi.writeExtraText = 0\n",
    "\n",
    "print(sys.version)"
   ]
  },
  {
   "cell_type": "markdown",
   "metadata": {},
   "source": [
    "# Load ntuples"
   ]
  },
  {
   "cell_type": "code",
   "execution_count": 2,
   "metadata": {},
   "outputs": [
    {
     "name": "stdout",
     "output_type": "stream",
     "text": [
      "/uscms_data/d3/christiw/MDS_CMSDAS2023/ntuples/Run2_displacedJetMuonNtupler_V1p17_Data2018_17Sept2018_Run2018B-HighMET-17Sep2018_Job9_of_20.root\n",
      "43798.0\n"
     ]
    }
   ],
   "source": [
    "data_file = '/uscms_data/d3/christiw/MDS_CMSDAS2023/ntuples/Run2_displacedJetMuonNtupler_V1p17_Data2018_17Sept2018_Run2018B-HighMET-17Sep2018_Job9_of_20.root'\n",
    "# data_file = data_path + 'Run2_displacedJetMuonNtupler_'+v1+'_Data2016_Run2016-HighMET-07Aug17_goodLumi.root'\n",
    "    \n",
    "print(data_file)\n",
    "root_dir = uproot.open(data_file) \n",
    "tree = root_dir['MuonSystem']\n",
    "NEvents = root_dir['NEvents'].values()[0] #get first bin of histogram\n",
    "print(NEvents)\n",
    "\n"
   ]
  },
  {
   "cell_type": "markdown",
   "metadata": {},
   "source": [
    "# OOT Control Region Selection"
   ]
  },
  {
   "cell_type": "code",
   "execution_count": 3,
   "metadata": {},
   "outputs": [
    {
     "name": "stdout",
     "output_type": "stream",
     "text": [
      "(0.9181937595739496, 0.25929517577909206)\n"
     ]
    }
   ],
   "source": [
    "oot_flag = 1\n",
    "# if 0 then do inverted cut-based ID region\n",
    "T = tree\n",
    "        \n",
    "########### SELECTION: CLUSTERS ############\n",
    "\n",
    "\n",
    "sel_rechitcluster = np.abs(T['cscRechitClusterEta'].array()) < 2.0\n",
    "\n",
    "me1112_veto = 10\n",
    "sel_rechitcluster = np.logical_and(sel_rechitcluster, T['cscRechitClusterNRechitChamberPlus11'].array() <= me1112_veto)\n",
    "sel_rechitcluster = np.logical_and(sel_rechitcluster, T['cscRechitClusterNRechitChamberPlus12'].array() <= me1112_veto)\n",
    "sel_rechitcluster = np.logical_and(sel_rechitcluster, T['cscRechitClusterNRechitChamberMinus11'].array() <= me1112_veto)\n",
    "sel_rechitcluster = np.logical_and(sel_rechitcluster, T['cscRechitClusterNRechitChamberMinus12'].array() <= me1112_veto)\n",
    "\n",
    "sel_rechitcluster = np.logical_and(sel_rechitcluster, T['cscRechitCluster_match_MB1Seg_0p4'].array() <= me1112_veto)\n",
    "sel_rechitcluster = np.logical_and(sel_rechitcluster, T['cscRechitCluster_match_RE12_0p4'].array() <= me1112_veto)\n",
    "sel_rechitcluster = np.logical_and(sel_rechitcluster, T['cscRechitCluster_match_RB1_0p4'].array() <= me1112_veto)\n",
    "\n",
    "sel_rechitcluster = np.logical_and( sel_rechitcluster, T['cscRechitClusterJetVetoPt'].array() < 10)\n",
    "sel_rechitcluster = np.logical_and( sel_rechitcluster, T['cscRechitClusterMuonVetoPt'].array() < 20)\n",
    "sel_rechitcluster = np.logical_and(sel_rechitcluster, T['cscRechitClusterTimeSpreadWeightedAll'].array() <= 20)\n",
    "\n",
    "\n",
    "if oot_flag:\n",
    "    sel_rechitcluster = np.logical_and(sel_rechitcluster,  T['cscRechitClusterTimeWeighted'].array() < -12.5)\n",
    "\n",
    "else:\n",
    "    sel_rechitcluster = np.logical_and(sel_rechitcluster, np.logical_and(T['cscRechitClusterTimeWeighted'].array() < 12.5, \\\n",
    "                                                                         T['cscRechitClusterTimeWeighted'].array() > -5.0))\n",
    "\n",
    "\n",
    "\n",
    "########### SELECTION: JETS ############\n",
    "\n",
    "sel_jet = np.logical_and(T['jetPt'].array() > 30, np.abs(T['jetEta'].array()) < 2.4 )\n",
    "sel_jet = np.logical_and(sel_jet, T['jetTightPassId'].array())\n",
    "\n",
    "########### SELECTION: EVENTS ############\n",
    "# select only triggered events\n",
    "sel_ev = T['METNoMuTrigger'].array()\n",
    "\n",
    "\n",
    "sel_ev  = np.logical_and(sel_ev,np.sum(sel_rechitcluster,axis=1) >= 1)\n",
    "# sel_ev[k] = np.logical_and(sel_ev[k], (T['nDtRings')+T['nCscRings'))<10) # apply this in the ntuple before hand\n",
    "sel_ev = np.logical_and(sel_ev ,T['metEENoise'].array() > 200)\n",
    "sel_ev = np.logical_and(sel_ev , np.sum(sel_jet,axis=1)>=1)\n",
    "sel_ev = np.logical_and(sel_ev,T['Flag2_all'].array())\n",
    "\n",
    "\n",
    "##### cut based ID ####\n",
    "cscRechitClusterNStation = T['cscRechitClusterNStation10'].array()[sel_rechitcluster][sel_ev][:,0]\n",
    "cscRechitClusterEta = T['cscRechitClusterEta'].array()[sel_rechitcluster][sel_ev][:,0]\n",
    "cscRechitClusterPhi = T['cscRechitClusterPhi'].array()[sel_rechitcluster][sel_ev][:,0]\n",
    "cscRechitClusterAvgStation = T['cscRechitClusterAvgStation10'].array()[sel_rechitcluster][sel_ev][:,0]\n",
    "cond2 = np.logical_and(np.abs(cscRechitClusterAvgStation)==2, np.abs(cscRechitClusterEta) < 1.6)\n",
    "cond3 = np.logical_and(np.abs(cscRechitClusterAvgStation)==3, np.abs(cscRechitClusterEta) < 1.6)\n",
    "cond4 = np.logical_and(np.abs(cscRechitClusterAvgStation)==4, np.abs(cscRechitClusterEta) < 1.8)\n",
    "cond1 = np.logical_and(cscRechitClusterNStation==1, np.logical_or(np.logical_or(np.abs(cscRechitClusterAvgStation)==1, cond2), np.logical_or(cond3, cond4)))\n",
    "cond2 = np.logical_and(cscRechitClusterNStation > 1, np.abs(cscRechitClusterEta) < 1.9)\n",
    "bdt_sel = np.logical_or(np.logical_or(cond1, cond2), np.logical_or(cond3, cond4))\n",
    "if oot_flag == 0: bdt_sel = np.logical_not(bdt_sel)    \n",
    "\n",
    "#### Save variables needed for ABCD ####                                   \n",
    "                                   \n",
    "deltaPhi = T['cscRechitClusterMetEENoise_dPhi'].array()[sel_rechitcluster][sel_ev][:,0][bdt_sel]\n",
    "Nhits = T['cscRechitClusterSize'].array()[sel_rechitcluster][sel_ev][:,0][bdt_sel]\n",
    "\n",
    "### print correlation between the two variables ####\n",
    "print(scipy.stats.pearsonr(Nhits, deltaPhi))\n"
   ]
  },
  {
   "cell_type": "markdown",
   "metadata": {},
   "source": [
    "# plot distribution of dphi and Nrechits"
   ]
  },
  {
   "cell_type": "code",
   "execution_count": 66,
   "metadata": {},
   "outputs": [
    {
     "name": "stderr",
     "output_type": "stream",
     "text": [
      "Warning in <TCanvas::Constructor>: Deleting canvas with same name: c\n"
     ]
    },
    {
     "data": {
      "image/png": "[encoded data removed]",
      "text/plain": [
       "<IPython.core.display.Image object>"
      ]
     },
     "metadata": {},
     "output_type": "display_data"
    }
   ],
   "source": [
    "# Plotting ncsc\n",
    "start_t = time.time()\n",
    "c = rt.TCanvas('c','c', 1000, 800)\n",
    "\n",
    "h = rt.TH2D()\n",
    "h = rt.TH2D('', '', 25,50,300,25,0,3.2)\n",
    "h.SetXTitle('N_{hits}')\n",
    "h.SetYTitle('#Delta#phi (cluster,met)')\n",
    "h.SetZTitle('Events')\n",
    "# h = create_TH2D(np.column_stack(( Nhits, np.abs(deltaPhi))),\n",
    "#                axis_title = ['N_{rechits}','#Delta#phi (cluster,met)','Events'], binning=[25,50,300,25,0,3.2])\n",
    "for i in range(len(Nhits)):\n",
    "    h.Fill(Nhits[i],np.abs(deltaPhi)[i])\n",
    "\n",
    "h.Draw('colz')\n",
    "c.SetRightMargin(0.2)\n",
    "c.Draw()\n",
    "\n",
    "# c.SaveAs()\n",
    "\n"
   ]
  },
  {
   "cell_type": "markdown",
   "metadata": {},
   "source": [
    "# ABCD (Scan Nrechits)"
   ]
  },
  {
   "cell_type": "code",
   "execution_count": 48,
   "metadata": {},
   "outputs": [
    {
     "name": "stderr",
     "output_type": "stream",
     "text": [
      "/tmp/ipykernel_14352/2743722681.py:24: RuntimeWarning: divide by zero encountered in true_divide\n",
      "  unc_pred = (1./c + 1./b + 1./a)**0.5*(pred)\n",
      "/tmp/ipykernel_14352/2743722681.py:24: RuntimeWarning: invalid value encountered in double_scalars\n",
      "  unc_pred = (1./c + 1./b + 1./a)**0.5*(pred)\n"
     ]
    },
    {
     "name": "stdout",
     "output_type": "stream",
     "text": [
      "60 \t 1 \t 2 \t 0 \t 0 \t 0.0 \t nan \t nan\n",
      "70 \t 1 \t 2 \t 0 \t 0 \t 0.0 \t nan \t nan\n",
      "80 \t 0 \t 3 \t 0 \t 0 \t 0.0 \t nan \t nan\n",
      "90 \t 0 \t 3 \t 0 \t 0 \t 0.0 \t nan \t nan\n",
      "100 \t 0 \t 3 \t 0 \t 0 \t 0.0 \t nan \t nan\n",
      "110 \t 0 \t 3 \t 0 \t 0 \t 0.0 \t nan \t nan\n",
      "120 \t 0 \t 3 \t 0 \t 0 \t 0.0 \t nan \t nan\n",
      "130 \t 0 \t 3 \t 0 \t 0 \t 0.0 \t nan \t nan\n",
      "140 \t 0 \t 3 \t 0 \t 0 \t 0.0 \t nan \t nan\n",
      "150 \t 0 \t 3 \t 0 \t 0 \t 0.0 \t nan \t nan\n",
      "160 \t 0 \t 3 \t 0 \t 0 \t 0.0 \t nan \t nan\n",
      "170 \t 0 \t 3 \t 0 \t 0 \t 0.0 \t nan \t nan\n",
      "180 \t 0 \t 3 \t 0 \t 0 \t 0.0 \t nan \t nan\n",
      "190 \t 0 \t 3 \t 0 \t 0 \t 0.0 \t nan \t nan\n",
      "200 \t 0 \t 3 \t 0 \t 0 \t 0.0 \t nan \t nan\n",
      "210 \t 0 \t 3 \t 0 \t 0 \t 0.0 \t nan \t nan\n",
      "220 \t 0 \t 3 \t 0 \t 0 \t 0.0 \t nan \t nan\n",
      "230 \t 0 \t 3 \t 0 \t 0 \t 0.0 \t nan \t nan\n",
      "240 \t 0 \t 3 \t 0 \t 0 \t 0.0 \t nan \t nan\n",
      "250 \t 0 \t 3 \t 0 \t 0 \t 0.0 \t nan \t nan\n",
      "260 \t 0 \t 3 \t 0 \t 0 \t 0.0 \t nan \t nan\n",
      "270 \t 0 \t 3 \t 0 \t 0 \t 0.0 \t nan \t nan\n",
      "280 \t 0 \t 3 \t 0 \t 0 \t 0.0 \t nan \t nan\n",
      "290 \t 0 \t 3 \t 0 \t 0 \t 0.0 \t nan \t nan\n"
     ]
    }
   ],
   "source": [
    "n_ev = 5000\n",
    "\n",
    "scan_nhits = 1\n",
    "\n",
    "if scan_nhits:\n",
    "    dphi_scan = [0.75]\n",
    "    nhits_scan = np.arange(60,300,10)\n",
    "else:\n",
    "    dphi_scan = np.arange(9,22,1)/20\n",
    "    nhits_scan = [130]\n",
    "\n",
    "    \n",
    "\n",
    "for N_RECHIT_CUT in nhits_scan:\n",
    "    for DPHI_CUT in dphi_scan:\n",
    "        var = np.abs(deltaPhi)\n",
    "        a = br * np.sum(np.logical_and(Nhits>=N_RECHIT_CUT, np.abs(deltaPhi)>=DPHI_CUT))\n",
    "        b = br * np.sum(np.logical_and(Nhits<N_RECHIT_CUT, np.abs(deltaPhi)>=DPHI_CUT))\n",
    "        c = br * np.sum(np.logical_and(Nhits<N_RECHIT_CUT, np.abs(deltaPhi)<DPHI_CUT))\n",
    "        d = br * np.sum(np.logical_and(Nhits>=N_RECHIT_CUT, np.abs(deltaPhi)<DPHI_CUT))\n",
    "\n",
    "\n",
    "        pred = c/b*a\n",
    "        unc_pred = (1./c + 1./b + 1./a)**0.5*(pred)\n",
    "        if math.isnan(unc_pred): z_value = float(\"nan\")\n",
    "        else:\n",
    "            mu = np.random.normal(pred, unc_pred, n_ev)\n",
    "            p_value = 0.0\n",
    "            for i in mu:\n",
    "                if i < 0:continue\n",
    "                n = np.random.poisson(i, n_ev)\n",
    "                p_value += np.count_nonzero(n>=d[k])\n",
    "\n",
    "            p_value = p_value/n_ev**2\n",
    "            z_value = abs(norm.ppf(p_value))\n",
    "        print(N_RECHIT_CUT, '\\t',a,'\\t',b,'\\t',c,'\\t',d,'\\t', round(pred, 2), '\\t',\\\n",
    "              round( unc_pred, 2), '\\t', round(z_value,2))\n",
    "\n"
   ]
  },
  {
   "cell_type": "code",
   "execution_count": null,
   "metadata": {},
   "outputs": [],
   "source": []
  }
 ],
 "metadata": {
  "kernelspec": {
   "display_name": "Python 3 (ipykernel)",
   "language": "python",
   "name": "python3"
  },
  "language_info": {
   "codemirror_mode": {
    "name": "ipython",
    "version": 3
   },
   "file_extension": ".py",
   "mimetype": "text/x-python",
   "name": "python",
   "nbconvert_exporter": "python",
   "pygments_lexer": "ipython3",
   "version": "3.9.12"
  }
 },
 "nbformat": 4,
 "nbformat_minor": 4
}
