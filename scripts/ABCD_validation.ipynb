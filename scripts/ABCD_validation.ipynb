{
 "cells": [
  {
   "cell_type": "code",
   "execution_count": 2,
   "metadata": {},
   "outputs": [
    {
     "name": "stdout",
     "output_type": "stream",
     "text": [
      "3.9.12 (main, Jun  7 2022, 16:09:12) \n",
      "[GCC 11.2.0]\n"
     ]
    }
   ],
   "source": [
    "import ROOT as rt\n",
    "import csv\n",
    "import re\n",
    "import sys\n",
    "import collections\n",
    "\n",
    "from collections import OrderedDict\n",
    "import uproot\n",
    "\n",
    "import scipy\n",
    "import numpy as np\n",
    "import numpy as np\n",
    "from scipy.stats import norm\n",
    "import math\n",
    "import sys\n",
    "import os\n",
    "sys.path.append(os.getcwd().replace('scripts', 'lib'))\n",
    "\n",
    "import tdrstyle\n",
    "style = tdrstyle.setTDRStyle()\n",
    "\n",
    "print(sys.version)"
   ]
  },
  {
   "cell_type": "markdown",
   "metadata": {},
   "source": [
    "# Load ntuples"
   ]
  },
  {
   "cell_type": "code",
   "execution_count": 3,
   "metadata": {},
   "outputs": [
    {
     "name": "stdout",
     "output_type": "stream",
     "text": [
      "/eos/uscms/store/user/cmsdas/2024/long_exercises/MDS/data/Run2_displacedJetMuonNtupler_V1p17_Data2016_Data2017_Data2018-HighMET_goodLumi.root\n",
      "22763250.0\n"
     ]
    }
   ],
   "source": [
    "path = '/eos/uscms/store/user/cmsdas/2024/long_exercises/MDS/data/'\n",
    "data_file = path + 'Run2_displacedJetMuonNtupler_V1p17_Data2016_Data2017_Data2018-HighMET_goodLumi.root'\n",
    "\n",
    "print(data_file)\n",
    "root_dir = uproot.open(data_file) \n",
    "tree = root_dir['MuonSystem']\n",
    "NEvents = root_dir['NEvents'].values()[0] #get first bin of histogram\n",
    "print(NEvents)\n",
    "\n"
   ]
  },
  {
   "cell_type": "markdown",
   "metadata": {},
   "source": [
    "# OOT Control Region Selection"
   ]
  },
  {
   "cell_type": "code",
   "execution_count": 11,
   "metadata": {},
   "outputs": [
    {
     "name": "stdout",
     "output_type": "stream",
     "text": [
      "(0.03331639426149141, 0.42401883668905105)\n"
     ]
    }
   ],
   "source": [
    "oot_flag = 1\n",
    "# if 0 then do inverted cut-based ID region\n",
    "T = tree\n",
    "        \n",
    "########### SELECTION: CLUSTERS ############\n",
    "\n",
    "\n",
    "sel_rechitcluster = np.abs(T['cscRechitClusterEta'].array()) < 2.0\n",
    "\n",
    "me1112_veto = 0\n",
    "sel_rechitcluster = np.logical_and(sel_rechitcluster, T['cscRechitClusterNRechitChamberPlus11'].array() <= me1112_veto)\n",
    "sel_rechitcluster = np.logical_and(sel_rechitcluster, T['cscRechitClusterNRechitChamberPlus12'].array() <= me1112_veto)\n",
    "sel_rechitcluster = np.logical_and(sel_rechitcluster, T['cscRechitClusterNRechitChamberMinus11'].array() <= me1112_veto)\n",
    "sel_rechitcluster = np.logical_and(sel_rechitcluster, T['cscRechitClusterNRechitChamberMinus12'].array() <= me1112_veto)\n",
    "\n",
    "sel_rechitcluster = np.logical_and(sel_rechitcluster, T['cscRechitCluster_match_MB1Seg_0p4'].array() <= me1112_veto)\n",
    "sel_rechitcluster = np.logical_and(sel_rechitcluster, T['cscRechitCluster_match_RE12_0p4'].array() <= me1112_veto)\n",
    "sel_rechitcluster = np.logical_and(sel_rechitcluster, T['cscRechitCluster_match_RB1_0p4'].array() <= me1112_veto)\n",
    "\n",
    "sel_rechitcluster = np.logical_and( sel_rechitcluster, T['cscRechitClusterJetVetoPt'].array() < 10)\n",
    "sel_rechitcluster = np.logical_and( sel_rechitcluster, T['cscRechitClusterMuonVetoPt'].array() < 20)\n",
    "sel_rechitcluster = np.logical_and(sel_rechitcluster, T['cscRechitClusterTimeSpread'].array() <= 20)\n",
    "\n",
    "\n",
    "if oot_flag:\n",
    "    sel_rechitcluster = np.logical_and(sel_rechitcluster,  T['cscRechitClusterTime'].array() < -12.5)\n",
    "\n",
    "else:\n",
    "    sel_rechitcluster = np.logical_and(sel_rechitcluster, np.logical_and(T['cscRechitClusterTime'].array() < 12.5, \\\n",
    "                                                                         T['cscRechitClusterTime'].array() > -5.0))\n",
    "\n",
    "\n",
    "\n",
    "########### SELECTION: JETS ############\n",
    "\n",
    "sel_jet = np.logical_and(T['jetPt'].array() > 30, np.abs(T['jetEta'].array()) < 2.4 )\n",
    "sel_jet = np.logical_and(sel_jet, T['jetTightPassId'].array())\n",
    "\n",
    "########### SELECTION: EVENTS ############\n",
    "# select only triggered events\n",
    "sel_ev = T['METTrigger'].array()\n",
    "\n",
    "\n",
    "sel_ev  = np.logical_and(sel_ev,np.sum(sel_rechitcluster,axis=1) >= 1)\n",
    "sel_ev = np.logical_and(sel_ev ,T['met'].array() > 200)\n",
    "sel_ev = np.logical_and(sel_ev , np.sum(sel_jet,axis=1)>=1)\n",
    "sel_ev = np.logical_and(sel_ev,T['metFilters'].array())\n",
    "\n",
    "\n",
    "##### cut based ID ####\n",
    "cscRechitClusterNStation = T['cscRechitClusterNStation'].array()[sel_rechitcluster][sel_ev][:,0]\n",
    "cscRechitClusterEta = T['cscRechitClusterEta'].array()[sel_rechitcluster][sel_ev][:,0]\n",
    "cscRechitClusterPhi = T['cscRechitClusterPhi'].array()[sel_rechitcluster][sel_ev][:,0]\n",
    "cscRechitClusterAvgStation = T['cscRechitClusterAvgStation'].array()[sel_rechitcluster][sel_ev][:,0]\n",
    "cond2 = np.logical_and(np.abs(cscRechitClusterAvgStation)==2, np.abs(cscRechitClusterEta) < 1.6)\n",
    "cond3 = np.logical_and(np.abs(cscRechitClusterAvgStation)==3, np.abs(cscRechitClusterEta) < 1.6)\n",
    "cond4 = np.logical_and(np.abs(cscRechitClusterAvgStation)==4, np.abs(cscRechitClusterEta) < 1.8)\n",
    "cond1 = np.logical_and(cscRechitClusterNStation==1, np.logical_or(np.logical_or(np.abs(cscRechitClusterAvgStation)==1, cond2), np.logical_or(cond3, cond4)))\n",
    "cond2 = np.logical_and(cscRechitClusterNStation > 1, np.abs(cscRechitClusterEta) < 1.9)\n",
    "bdt_sel = np.logical_or(np.logical_or(cond1, cond2), np.logical_or(cond3, cond4))\n",
    "if oot_flag == 0: bdt_sel = np.logical_not(bdt_sel)    \n",
    "\n",
    "#### Save variables needed for ABCD ####                                   \n",
    "                                   \n",
    "deltaPhi = T['cscRechitClusterMet_dPhi'].array()[sel_rechitcluster][sel_ev][:,0][bdt_sel]\n",
    "Nhits = T['cscRechitClusterSize'].array()[sel_rechitcluster][sel_ev][:,0][bdt_sel]\n",
    "\n",
    "### print correlation between the two variables ####\n",
    "print(scipy.stats.pearsonr(Nhits, deltaPhi))\n"
   ]
  },
  {
   "cell_type": "markdown",
   "metadata": {},
   "source": [
    "# plot distribution of dphi and Nrechits"
   ]
  },
  {
   "cell_type": "code",
   "execution_count": 12,
   "metadata": {},
   "outputs": [
    {
     "data": {
      "image/png": "[encoded data removed]",
      "text/plain": [
       "<IPython.core.display.Image object>"
      ]
     },
     "metadata": {},
     "output_type": "display_data"
    }
   ],
   "source": [
    "# Plotting ncsc\n",
    "c = rt.TCanvas('c','c', 1000, 800)\n",
    "\n",
    "h = rt.TH2D()\n",
    "h = rt.TH2D('', '', 25,50,300,25,0,3.2)\n",
    "h.SetXTitle('N_{hits}')\n",
    "h.SetYTitle('#Delta#phi (cluster,met)')\n",
    "h.SetZTitle('Events')\n",
    "for i in range(len(Nhits)):\n",
    "    h.Fill(Nhits[i],np.abs(deltaPhi)[i])\n",
    "\n",
    "h.Draw('colz')\n",
    "c.SetRightMargin(0.2)\n",
    "c.Draw()\n",
    "\n",
    "# c.SaveAs()\n",
    "\n"
   ]
  },
  {
   "cell_type": "markdown",
   "metadata": {},
   "source": [
    "# ABCD validation (Scan $N_{hits}$ or $\\Delta\\phi\\mathrm{(cluster, MET)}$)"
   ]
  },
  {
   "cell_type": "code",
   "execution_count": 23,
   "metadata": {},
   "outputs": [
    {
     "name": "stdout",
     "output_type": "stream",
     "text": [
      "cut \t A \t B \t C \t D \t prediction \t uncertainty\n",
      "\n",
      "0.45 \t 2 \t 12 \t 495 \t 69 \t 1.67 \t 0.53\n",
      "0.5 \t 2 \t 12 \t 490 \t 74 \t 1.81 \t 0.57\n",
      "0.55 \t 2 \t 12 \t 481 \t 83 \t 2.07 \t 0.65\n",
      "0.6 \t 3 \t 11 \t 471 \t 93 \t 2.17 \t 0.7\n",
      "0.65 \t 3 \t 11 \t 465 \t 99 \t 2.34 \t 0.75\n",
      "0.7 \t 3 \t 11 \t 450 \t 114 \t 2.79 \t 0.89\n",
      "0.75 \t 3 \t 11 \t 443 \t 121 \t 3.0 \t 0.96\n",
      "0.8 \t 3 \t 11 \t 433 \t 131 \t 3.33 \t 1.06\n",
      "0.85 \t 3 \t 11 \t 422 \t 142 \t 3.7 \t 1.17\n",
      "0.9 \t 3 \t 11 \t 407 \t 157 \t 4.24 \t 1.34\n",
      "0.95 \t 4 \t 10 \t 398 \t 166 \t 4.17 \t 1.37\n",
      "1.0 \t 4 \t 10 \t 382 \t 182 \t 4.76 \t 1.57\n",
      "1.05 \t 4 \t 10 \t 374 \t 190 \t 5.08 \t 1.67\n"
     ]
    }
   ],
   "source": [
    "n_ev = 5000\n",
    "\n",
    "scan_nhits = 0\n",
    "\n",
    "if scan_nhits:\n",
    "    dphi_scan = [0.75]\n",
    "    nhits_scan = np.arange(60,200,10)\n",
    "else:\n",
    "    dphi_scan = np.arange(9,22,1)/20\n",
    "    nhits_scan = [130]\n",
    "\n",
    "    \n",
    "print('cut \\t A \\t B \\t C \\t D \\t prediction \\t uncertainty')\n",
    "print()\n",
    "for N_RECHIT_CUT in nhits_scan:\n",
    "    for DPHI_CUT in dphi_scan:\n",
    "        var = np.abs(deltaPhi)\n",
    "        a = np.sum(np.logical_and(Nhits>=N_RECHIT_CUT, np.abs(deltaPhi)<DPHI_CUT))\n",
    "        b = np.sum(np.logical_and(Nhits>=N_RECHIT_CUT, np.abs(deltaPhi)>=DPHI_CUT))\n",
    "        c = np.sum(np.logical_and(Nhits<N_RECHIT_CUT, np.abs(deltaPhi)>=DPHI_CUT))\n",
    "        d = np.sum(np.logical_and(Nhits<N_RECHIT_CUT, np.abs(deltaPhi)<DPHI_CUT))\n",
    "\n",
    "\n",
    "        pred = b*d/c\n",
    "        unc_pred = (1./c + 1./b + 1./d)**0.5*(pred)\n",
    "        \n",
    "        if scan_nhits: print(N_RECHIT_CUT, '\\t',a,'\\t',b,'\\t',c,'\\t',d,'\\t', round(pred, 2), '\\t',round( unc_pred, 2))\n",
    "        else: print(DPHI_CUT, '\\t',a,'\\t',b,'\\t',c,'\\t',d,'\\t', round(pred, 2), '\\t', round( unc_pred, 2))\n"
   ]
  },
  {
   "cell_type": "code",
   "execution_count": null,
   "metadata": {},
   "outputs": [],
   "source": []
  }
 ],
 "metadata": {
  "kernelspec": {
   "display_name": "Python 3 (ipykernel)",
   "language": "python",
   "name": "python3"
  },
  "language_info": {
   "codemirror_mode": {
    "name": "ipython",
    "version": 3
   },
   "file_extension": ".py",
   "mimetype": "text/x-python",
   "name": "python",
   "nbconvert_exporter": "python",
   "pygments_lexer": "ipython3",
   "version": "3.9.12"
  }
 },
 "nbformat": 4,
 "nbformat_minor": 4
}
