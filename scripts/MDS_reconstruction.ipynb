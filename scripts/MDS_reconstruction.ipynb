{
 "cells": [
  {
   "cell_type": "code",
   "execution_count": null,
   "id": "6868f5ed",
   "metadata": {},
   "outputs": [],
   "source": [
    "import coffea\n",
    "from coffea.nanoevents.methods import vector\n",
    "import coffea.hist as hist\n",
    "import uproot\n",
    "import matplotlib.pyplot as plt\n",
    "import mplhep as hep\n",
    "import numpy as np\n",
    "import sys,os\n",
    "\n",
    "# from pyjet import cluster\n",
    "import awkward as ak\n",
    "\n",
    "from sklearn.cluster import DBSCAN\n",
    "\n",
    "from coffea.nanoevents import NanoEventsFactory, NanoAODSchema,BaseSchema\n",
    "\n",
    "sys.path.append(os.getcwd().replace('scripts', 'lib'))\n",
    "import util\n",
    "\n",
    "# from numba import jit"
   ]
  },
  {
   "cell_type": "markdown",
   "id": "88da24a5",
   "metadata": {},
   "source": [
    "# Open data files\n",
    "\n",
    " * First file contains collision data taken with large MET in the trigger in 2016. This is a sub-set of the analysis nTuple that you will use in the rest of the exercise.\n",
    " * The 2nd file contains signal simulation with $H\\rightarrow SS \\rightarrow 4b$ events"
   ]
  },
  {
   "cell_type": "code",
   "execution_count": null,
   "id": "49820054",
   "metadata": {},
   "outputs": [],
   "source": [
    "fpath = \"/eos/uscms/store/user/cmsdas/2024/long_exercises/MDS/data/displacedJetMuon_ntupler.root\"\n",
    "data = NanoEventsFactory.from_root(fpath,\n",
    "                                   schemaclass=BaseSchema,\n",
    "                                   treepath=\"ntuples/llp\"\n",
    "                                  ).events()\n",
    "\n",
    "fpath =\"/eos/uscms/store/user/cmsdas/2024/long_exercises/MDS/signal/displacedJetMuon_ntupler.root\"\n",
    "\n",
    "signal = NanoEventsFactory.from_root(fpath,\n",
    "                                   schemaclass=BaseSchema,\n",
    "                                   treepath=\"ntuples/llp\"\n",
    "                                  ).events()"
   ]
  },
  {
   "cell_type": "markdown",
   "id": "a0c78811",
   "metadata": {},
   "source": [
    "## The tree is loaded with the \"coffea\" analysis framework\n",
    "The events are loaded into an \"awkward arrays\", i.e. arrays with irregular sizes\n",
    "Our event-based data fits into awkward arrays very naturally!\n",
    " - Tree:\n",
    " -  |-muonPt :[ [Pt1,Pt2], [Pt1] ...]\n",
    " -  |-muonEta:[ [Eta1,Eta2], [Eta1] ...]"
   ]
  },
  {
   "cell_type": "code",
   "execution_count": null,
   "id": "618fcbcb",
   "metadata": {},
   "outputs": [],
   "source": [
    "# this awkward array has 16965 events, of the type \"event\"\n",
    "data"
   ]
  },
  {
   "cell_type": "code",
   "execution_count": null,
   "id": "c2328663",
   "metadata": {
    "scrolled": false
   },
   "outputs": [],
   "source": [
    "# shows the branches of the tree\n",
    "data.fields"
   ]
  },
  {
   "cell_type": "markdown",
   "id": "8c2c107d",
   "metadata": {},
   "source": [
    "## Accessing a branch like this will give the data in the format of (awkward)arrays\n",
    " - Note that the type becomes \"int32\"\n",
    " - For event-level quantity (number of total rechits),\n",
    "   the length of array is the **same** as the number of events"
   ]
  },
  {
   "cell_type": "code",
   "execution_count": null,
   "id": "89daa770",
   "metadata": {},
   "outputs": [],
   "source": [
    "data.ncscRechits"
   ]
  },
  {
   "cell_type": "markdown",
   "id": "0dbfeb12",
   "metadata": {},
   "source": [
    " - For object-level quantity (X pos. of each rechit), the first dimension of array is the same as the number of events, but the 2nd dimension of the array is **variable (var, float32)** "
   ]
  },
  {
   "cell_type": "code",
   "execution_count": null,
   "id": "2aa56a51",
   "metadata": {},
   "outputs": [],
   "source": [
    "data.cscRechitsX"
   ]
  },
  {
   "cell_type": "markdown",
   "id": "26546cbb",
   "metadata": {},
   "source": [
    "## Pack all the rechit properties arrays in 1 object"
   ]
  },
  {
   "cell_type": "code",
   "execution_count": null,
   "id": "493ddff5",
   "metadata": {},
   "outputs": [],
   "source": [
    "def pack(events,obj_str):\n",
    "    obj  = ak.zip(\n",
    "                {k.replace(obj_str,\"\"):getattr(events,k) for k in events.fields if k.startswith(obj_str)}\n",
    "                ,with_name=\"PtEtaPhiMLorentzVector\",\n",
    "                behavior=vector.behavior\n",
    "               )\n",
    "    return obj"
   ]
  },
  {
   "cell_type": "code",
   "execution_count": null,
   "id": "98196f2e",
   "metadata": {},
   "outputs": [],
   "source": [
    "rechits = pack(data,\"cscRechits\")"
   ]
  },
  {
   "cell_type": "markdown",
   "id": "3c01b52c",
   "metadata": {},
   "source": [
    " - These properties mostly follow from the CMSSW definition: [here](https://github.com/cms-sw/cmssw/blob/master/DataFormats/CSCRecHit/interface/CSCRecHit2D.h)\n",
    " - Our nTuplizer only dropped a few properties and computed a few new ones\n",
    " - We will use the following properties:\n",
    "   - Eta,Phi\n",
    "   - X,Y,Z\n",
    "   - Tpeak (Time calculated from strip input), Twire (Time calculated from wire input) [src code](https://github.com/cms-sw/cmssw/blob/master/RecoLocalMuon/CSCRecHitD/src/CSCMake2DRecHit.cc)\n",
    "   - Station"
   ]
  },
  {
   "cell_type": "code",
   "execution_count": null,
   "id": "b037d51f",
   "metadata": {},
   "outputs": [],
   "source": [
    "rechits.fields"
   ]
  },
  {
   "cell_type": "code",
   "execution_count": null,
   "id": "342d6346",
   "metadata": {},
   "outputs": [],
   "source": [
    "# Check number of rechits per event\n",
    "ak.num(rechits)"
   ]
  },
  {
   "cell_type": "markdown",
   "id": "102f5573",
   "metadata": {},
   "source": [
    "## Look at the 2D event display of rechits"
   ]
  },
  {
   "cell_type": "code",
   "execution_count": null,
   "id": "d9f157a9",
   "metadata": {},
   "outputs": [],
   "source": [
    "def displayRZ(i_event,rechits=[],cls=[]):\n",
    "    plt.style.use(hep.style.CMS) \n",
    "    \n",
    "    #Select the rechits in the i-th event\n",
    "    i_rh = rechits[i_event] if len(rechits)>0 else None\n",
    "    i_cls = cls[i_event] if len(cls)>0 else None\n",
    "    \n",
    "    #Make a figure with 2 subplots\n",
    "    fig, axs = plt.subplots(1,2, figsize=(18,8))\n",
    "\n",
    "    axs = axs.flatten()\n",
    "    #plot clusters:\n",
    "    if len(cls)>0:\n",
    "        #Eta-phi plot:        \n",
    "        s1=axs[0].scatter(i_cls.Eta,i_cls.Phi,s=i_cls.Nhit,label=\"Cluster\")\n",
    "        for cl in i_cls:\n",
    "            cone = plt.Circle((cl.Eta, cl.Phi), 0.4, color='b', fill=False,)\n",
    "            axs[0].add_patch(cone)        \n",
    "        \n",
    "        #R-Z plot:        \n",
    "        cls_r = (i_cls.X**2+i_cls.Y**2)**0.5        \n",
    "        axs[1].scatter(np.abs(i_cls.Z),cls_r,s=i_cls.Nhit)            \n",
    "    \n",
    "    #plot rechits:\n",
    "    if len(rechits)>0:\n",
    "        #Eta-phi plot:\n",
    "        s2=axs[0].scatter(i_rh.Eta,i_rh.Phi,s=1,label=\"Rechits\")\n",
    "        rh_r = (i_rh.X**2+i_rh.Y**2)**0.5    \n",
    "        \n",
    "        #R-Z plot:        \n",
    "        axs[1].scatter(np.abs(i_rh.Z),rh_r,s=1)\n",
    "\n",
    "    #label eta-phi plot\n",
    "    axs[0].text(0.1,0.9,\"%s-th event\"%i_event,transform=axs[0].transAxes)\n",
    "    axs[0].set_ylim(-np.pi,np.pi)\n",
    "    axs[0].set_xlim(-5,5)\n",
    "    axs[0].set_ylabel(r\"$\\phi$\")\n",
    "    axs[0].set_xlabel(r\"$\\eta$\")\n",
    "    \n",
    "    #label RZ plot\n",
    "    MB_xmin = 300\n",
    "    util.drawRZ(axs[1],MB_xmin)\n",
    "    axs[1].set_xlim(MB_xmin,None)\n",
    "    axs[1].set_xlabel(\"|z|[cm]\")\n",
    "    axs[1].set_ylabel(\"R[cm]\")\n",
    "    \n",
    "    #make legend\n",
    "    handles, labels = [(a + b) for a, b in zip(axs[0].get_legend_handles_labels(), \n",
    "                                           axs[1].get_legend_handles_labels())]\n",
    "    leg=fig.legend(handles, labels,\n",
    "                   bbox_to_anchor=(1.0, 1.0), loc='upper left')   \n",
    "    for ax in axs:\n",
    "        hep.cms.label(ax=ax,data=True,label=\"Preliminary\")    \n",
    "    for l in leg.legendHandles:\n",
    "        l._sizes = [30]\n",
    "    plt.tight_layout()\n",
    "    return"
   ]
  },
  {
   "cell_type": "markdown",
   "id": "6daf388f",
   "metadata": {},
   "source": [
    "### Try to look at the rechits from different events!\n",
    "Hint: find an event that has a large number of rechits first to get an interesting event!"
   ]
  },
  {
   "cell_type": "code",
   "execution_count": null,
   "id": "2400f64a",
   "metadata": {
    "scrolled": false
   },
   "outputs": [],
   "source": [
    "# check which events have large number of rechits\n",
    "np.where(ak.num(rechits)>400)"
   ]
  },
  {
   "cell_type": "code",
   "execution_count": null,
   "id": "83570913",
   "metadata": {
    "scrolled": true
   },
   "outputs": [],
   "source": [
    "displayRZ(1,rechits)"
   ]
  },
  {
   "cell_type": "markdown",
   "id": "a723bf94",
   "metadata": {},
   "source": [
    "# Clustering the rechits\n",
    "\n",
    "### First read the discussion in the lesson: [link](https://christinaw97.github.io/MDS_CMSDAS/03-MDS_reco/index.html#clustering-algorithm)"
   ]
  },
  {
   "cell_type": "markdown",
   "id": "6f82ffc7",
   "metadata": {},
   "source": [
    "We are using DBSCAN algorithm, implemented with the python lib: `sklearn.cluster`"
   ]
  },
  {
   "cell_type": "code",
   "execution_count": 64,
   "id": "12b8199a",
   "metadata": {},
   "outputs": [],
   "source": [
    "def DBScan(rechits,nCore,eps):\n",
    "    points=ak.zip([rechits.Eta,rechits.Phi],highlevel=False)\n",
    "\n",
    "    all_clusters = []\n",
    "    for x,rechit in zip(points,rechits):\n",
    "        n_clusters_=0\n",
    "        core_samples_mask=[]\n",
    "        ## format into DBSCAN input format x=[ [x1,y1],[x2,y2] ... ]        \n",
    "        x=np.stack(ak.unzip(x),axis=1)\n",
    "        i_clusters = []        \n",
    "        if len(x)>0:            \n",
    "            db = DBSCAN(eps=eps, min_samples=nCore).fit(x)\n",
    "            core_samples_mask = np.zeros_like(db.labels_, dtype=bool)\n",
    "            core_samples_mask[db.core_sample_indices_] = True\n",
    "            labels = db.labels_    \n",
    "            n_clusters_ = len(set(labels)) - (1 if -1 in labels else 0)\n",
    "            \n",
    "            ## Loop over clusters in this event\n",
    "            for iCs in range(n_clusters_):\n",
    "\n",
    "                #Compute each cluster's properties:\n",
    "                #    Input = rechits that belongs to this cluster (done via array masking)\n",
    "                cls = computeCluster(rechit[labels==iCs])\n",
    "                i_clusters.append(cls)\n",
    "        all_clusters.append(i_clusters)\n",
    "    return ak.Array(all_clusters)\n",
    "\n",
    "def computeCluster(rechits):\n",
    "    cls = {}\n",
    "\n",
    "    cls[\"Nhit\"] = len(rechits)\n",
    "    cls[\"Eta\"] = np.mean(rechits.Eta)\n",
    "    cls[\"Phi\"] = np.mean(rechits.Phi)\n",
    "    cls[\"X\"] = np.mean(rechits.X)\n",
    "    cls[\"Y\"] = np.mean(rechits.Y)    \n",
    "    cls[\"Z\"] = np.mean(rechits.Z)        \n",
    "    cls[\"Time\"]= np.mean((rechits.Tpeak + rechits.Twire)/2)\n",
    "\n",
    "    avgStation10,nStation10 = computeStationProp(rechits)\n",
    "    nME11_12 = computeME11_12(rechits)\n",
    "    \n",
    "    cls[\"nStation10\"] = nStation10\n",
    "    cls['avgStation10'] = avgStation10\n",
    "    cls[\"nME11_12\"] = nME11_12\n",
    "    \n",
    "    return cls\n",
    "\n",
    "def computeStationProp(rechits):\n",
    "#     uniqueStations = np.unique(rechits.Station)    \n",
    "    uniqueStations = np.array([-4,-3,-2,-1,1,2,3,4])    \n",
    "    nStation10   = 0\n",
    "    avgStation10 = 0\n",
    "    TotHitsStation10 = 0\n",
    "    for i_station in uniqueStations:\n",
    "        nRechit_in_i_station = sum(rechits.Station==i_station)\n",
    "        if nRechit_in_i_station >=10:\n",
    "            nStation10 +=1\n",
    "            avgStation10 += i_station * nRechit_in_i_station\n",
    "            TotHitsStation10 += nRechit_in_i_station\n",
    "    avgStation10 = avgStation10/TotHitsStation10\n",
    "    return avgStation10,nStation10\n",
    "\n",
    "def computeME11_12(rechits):\n",
    "    return 0"
   ]
  },
  {
   "cell_type": "code",
   "execution_count": null,
   "id": "004c5875",
   "metadata": {
    "scrolled": false
   },
   "outputs": [],
   "source": [
    "%%time\n",
    "\n",
    "minPoint = 50\n",
    "dR = 0.2\n",
    "cls = DBScan(rechits,minPoint,dR)"
   ]
  },
  {
   "cell_type": "code",
   "execution_count": null,
   "id": "301ad6d8",
   "metadata": {},
   "outputs": [],
   "source": [
    "cls.fields"
   ]
  },
  {
   "cell_type": "markdown",
   "id": "c584124d",
   "metadata": {},
   "source": [
    "## Try to see if the cluster in the previous event makes sense!\n",
    "Hint: find an event that has a reconstructed cluster first\n",
    "\n",
    "Do you see a cluster in the event that you chose?"
   ]
  },
  {
   "cell_type": "code",
   "execution_count": null,
   "id": "3bb53577",
   "metadata": {
    "scrolled": true
   },
   "outputs": [],
   "source": [
    "# check which events have more than 1 cluster\n",
    "np.where(ak.num(cls)>=1)"
   ]
  },
  {
   "cell_type": "code",
   "execution_count": null,
   "id": "3169c7eb",
   "metadata": {},
   "outputs": [],
   "source": [
    "displayRZ(1,rechits,cls)"
   ]
  },
  {
   "cell_type": "markdown",
   "id": "bd929f2c",
   "metadata": {},
   "source": [
    "# Examine cluster properties"
   ]
  },
  {
   "cell_type": "code",
   "execution_count": 63,
   "id": "b2953bcd",
   "metadata": {},
   "outputs": [],
   "source": [
    "samples=[\n",
    "    {\"cls\":cls,\"label\":\"data\"}, \n",
    "]\n",
    "density=False"
   ]
  },
  {
   "cell_type": "markdown",
   "id": "37cc9a4c",
   "metadata": {},
   "source": [
    "## Number of clusters and N_rechits"
   ]
  },
  {
   "cell_type": "code",
   "execution_count": null,
   "id": "ebc2b02e",
   "metadata": {},
   "outputs": [],
   "source": [
    "plt.style.use(hep.style.CMS)  \n",
    "fig, axs = plt.subplots(1,2,figsize=(16,8))\n",
    "\n",
    "axs = axs.flatten()\n",
    "h1= hist.Hist(\"Events\",hist.Cat(\"sample\",\"sample\"),hist.Bin(\"nClusters\", \"nClusters\", 10, 0, 10))\n",
    "h2= hist.Hist(\"Events\",hist.Cat(\"sample\",\"sample\"),hist.Bin(\"Nhit\", r\"$N_{rechit}$\", 20, 0, 1000))\n",
    "\n",
    "for sample in samples:\n",
    "    cls = sample['cls']\n",
    "    label = sample['label']\n",
    "    h1.fill(sample=label ,nClusters=ak.num(cls))\n",
    "    h2.fill(sample=label ,Nhit = ak.flatten(cls.Nhit))\n",
    "\n",
    "hist.plot1d(h1,density=density,ax=axs[0])    \n",
    "hist.plot1d(h2,density=density,ax=axs[1])\n",
    "for ax in axs:\n",
    "    \n",
    "    hep.cms.label(ax=ax,data=True,label=\"Preliminary\")        \n",
    "    if density: ax.set_ylabel(\"Density\")\n",
    "plt.tight_layout()\n"
   ]
  },
  {
   "cell_type": "markdown",
   "id": "9ec48816",
   "metadata": {},
   "source": [
    "# Eta, Phi distributions"
   ]
  },
  {
   "cell_type": "code",
   "execution_count": null,
   "id": "b7ae15d2",
   "metadata": {},
   "outputs": [],
   "source": [
    "plt.style.use(hep.style.CMS)  \n",
    "fig, axs = plt.subplots(1,2,figsize=(16,8))\n",
    "\n",
    "axs = axs.flatten()\n",
    "h1= hist.Hist(\"Events\",hist.Cat(\"sample\",\"sample\"),hist.Bin(\"eta\", r\"$\\eta$\", 40, -4, 4))\n",
    "h2= hist.Hist(\"Events\",hist.Cat(\"sample\",\"sample\"),hist.Bin(\"phi\", \"phi\", 64, -3.2, 3.2))\n",
    "\n",
    "for sample in samples:\n",
    "    cls = sample['cls']\n",
    "    label = sample['label']\n",
    "    h1.fill(sample=label ,eta = ak.flatten(cls.Eta))\n",
    "    h2.fill(sample=label ,phi = ak.flatten(cls.Phi))\n",
    "\n",
    "hist.plot1d(h1,density=density,ax=axs[0])    \n",
    "hist.plot1d(h2,density=density,ax=axs[1])\n",
    "for ax in axs:\n",
    "    \n",
    "    hep.cms.label(ax=ax,data=True,label=\"Preliminary\")        \n",
    "    if density: ax.set_ylabel(\"Density\")\n",
    "plt.tight_layout()\n"
   ]
  },
  {
   "cell_type": "markdown",
   "id": "8e08eb7a",
   "metadata": {},
   "source": [
    "# R, Z distributions"
   ]
  },
  {
   "cell_type": "code",
   "execution_count": null,
   "id": "2170e4ff",
   "metadata": {},
   "outputs": [],
   "source": [
    "plt.style.use(hep.style.CMS)  \n",
    "fig, axs = plt.subplots(1,2,figsize=(16,8))\n",
    "\n",
    "axs = axs.flatten()\n",
    "h2 = hist.Hist(\"Events\",hist.Cat(\"sample\",\"sample\"),hist.Bin(\"R\", \"R\", 100, 0, 1000))        \n",
    "h3 = hist.Hist(\"Events\",hist.Cat(\"sample\",\"sample\"),hist.Bin(\"Z\", \"Z\", 120, -1200, 1200))            \n",
    "\n",
    "for sample in samples:\n",
    "    cls = sample['cls']\n",
    "    label = sample['label']\n",
    "    h2.fill(sample=label ,R = ak.flatten((cls.Y**2+cls.X**2)**0.5))\n",
    "    h3.fill(sample=label ,Z = ak.flatten(cls.Z))        \n",
    "\n",
    "hist.plot1d(h2,density=density,ax=axs[0])\n",
    "hist.plot1d(h3,density=density,ax=axs[1])\n",
    "for ax in axs:\n",
    "    \n",
    "    hep.cms.label(ax=ax,data=True,label=\"Preliminary\")        \n",
    "    if density: ax.set_ylabel(\"Density\")\n",
    "plt.tight_layout()\n"
   ]
  },
  {
   "cell_type": "markdown",
   "id": "a882e55e",
   "metadata": {},
   "source": [
    "# Time, nStation10, AvgStation10 distributions"
   ]
  },
  {
   "cell_type": "code",
   "execution_count": null,
   "id": "69dca543",
   "metadata": {},
   "outputs": [],
   "source": [
    "plt.style.use(hep.style.CMS)  \n",
    "fig, axs = plt.subplots(1,3,figsize=(24,8))\n",
    "\n",
    "axs = axs.flatten()\n",
    "h1= hist.Hist(\"Events\",hist.Cat(\"sample\",\"sample\"),hist.Bin(\"Time\", 'ClusterTime[ns]',50, -100, 100))                        \n",
    "h2= hist.Hist(\"Events\",hist.Cat(\"sample\",\"sample\"),hist.Bin(\"nStation10\", \"Nstation10\", 8, 0, 8))    \n",
    "h3= hist.Hist(\"Events\",hist.Cat(\"sample\",\"sample\"),hist.Bin(\"avgStation10\", \"AvgStation10\", 40, -4, 4))             \n",
    "\n",
    "for sample in samples:\n",
    "    cls = sample['cls']\n",
    "    label = sample['label']\n",
    "    h1.fill(sample=label ,Time = ak.flatten(cls.Time))\n",
    "    h2.fill(sample=label ,nStation10 = ak.flatten(cls.nStation10))\n",
    "    h3.fill(sample=label ,avgStation10 = ak.flatten(cls.avgStation10))    \n",
    "    \n",
    "\n",
    "hist.plot1d(h1,density=density,ax=axs[0])    \n",
    "hist.plot1d(h2,density=density,ax=axs[1])\n",
    "hist.plot1d(h3,density=density,ax=axs[2])\n",
    "for ax in axs:\n",
    "    \n",
    "    hep.cms.label(ax=ax,data=True,label=\"Preliminary\")        \n",
    "    if density: ax.set_ylabel(\"Density\")\n",
    "plt.tight_layout()\n"
   ]
  },
  {
   "cell_type": "markdown",
   "id": "0b393ffd",
   "metadata": {},
   "source": [
    "# Bonus: Cluster ID\n",
    "\n",
    "Some combination of nStation10 and eta may also help us to distinguish between signal and background.\n",
    "We will use these variable to design a \"ClusterID\" later."
   ]
  },
  {
   "cell_type": "code",
   "execution_count": null,
   "id": "ae6ec4b3",
   "metadata": {},
   "outputs": [],
   "source": [
    "h= hist.Hist(\"Events\",\n",
    "              hist.Bin(\"nStation10\", \"Nstation10\", 8, 0, 8),\n",
    "              hist.Bin(\"eta\", r\"$\\eta$\", 40, -3, 3)\n",
    "             )    \n",
    "h.fill(nStation10=ak.flatten(cls.nStation10),\n",
    "      eta = ak.flatten(cls.Eta))\n",
    "h_group = h.group(\"nStation10\",hist.Cat(\"nStationGrp\",\"nStationGrp\"),\n",
    "                 {\n",
    "                     \"nStation=1\":slice(0,2),\n",
    "                     \"nStation>=1\":slice(2,None),                     \n",
    "                 })"
   ]
  },
  {
   "cell_type": "code",
   "execution_count": null,
   "id": "b556e734",
   "metadata": {},
   "outputs": [],
   "source": [
    "hist.plot1d(h_group,density=True)"
   ]
  },
  {
   "cell_type": "code",
   "execution_count": null,
   "id": "2f2cf007",
   "metadata": {},
   "outputs": [],
   "source": [
    "h.to_hist().project(\"eta\",\"nStation10\").plot2d_full()"
   ]
  },
  {
   "cell_type": "code",
   "execution_count": null,
   "id": "5edfc215",
   "metadata": {},
   "outputs": [],
   "source": []
  }
 ],
 "metadata": {
  "kernelspec": {
   "display_name": "Python 3 (ipykernel)",
   "language": "python",
   "name": "python3"
  },
  "language_info": {
   "codemirror_mode": {
    "name": "ipython",
    "version": 3
   },
   "file_extension": ".py",
   "mimetype": "text/x-python",
   "name": "python",
   "nbconvert_exporter": "python",
   "pygments_lexer": "ipython3",
   "version": "3.9.12"
  }
 },
 "nbformat": 4,
 "nbformat_minor": 5
}
