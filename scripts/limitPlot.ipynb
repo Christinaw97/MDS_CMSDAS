{
 "cells": [
  {
   "cell_type": "code",
   "execution_count": 1,
   "metadata": {},
   "outputs": [
    {
     "name": "stdout",
     "output_type": "stream",
     "text": [
      "Welcome to JupyROOT 6.28/00\n",
      "3.9.12 (main, Jun  7 2022, 16:09:12) \n",
      "[GCC 11.2.0]\n"
     ]
    }
   ],
   "source": [
    "import ROOT as rt\n",
    "import csv\n",
    "import sys\n",
    "import collections\n",
    "import os\n",
    "from collections import OrderedDict\n",
    "import uproot\n",
    "\n",
    "import numpy as np\n",
    "\n",
    "sys.path.append(os.getcwd().replace('scripts', 'lib'))\n",
    "\n",
    "import tdrstyle\n",
    "tdrstyle.setTDRStyle()\n",
    "\n",
    "\n",
    "\n",
    "print(sys.version)"
   ]
  },
  {
   "cell_type": "code",
   "execution_count": 2,
   "metadata": {},
   "outputs": [],
   "source": [
    "def readNorm(f_cscCard):\n",
    "    f = open(f_cscCard,\"r\")\n",
    "    Lines = f.readlines()\n",
    "    for line in Lines:\n",
    "        l  = line.split()\n",
    "        if len(l) == 0:continue\n",
    "        if l[0] == 'rate':\n",
    "            return float(l[1])"
   ]
  },
  {
   "cell_type": "markdown",
   "metadata": {},
   "source": [
    "# Load limit trees\n",
    "Here you will read the limit trees and create an array `limits` that stores 6 number for each LLP lifetimes\n",
    "You will also need to divide the limit from limit trees by the norm that you've set when you ran Combine"
   ]
  },
  {
   "cell_type": "code",
   "execution_count": 5,
   "metadata": {},
   "outputs": [
    {
     "name": "stdout",
     "output_type": "stream",
     "text": [
      "[      10       50      100      500     1000     5000    10000    50000\n",
      "   100000   200000   300000   500000  2000000  3000000  5000000 10000000]\n"
     ]
    }
   ],
   "source": [
    "dataCardDir = '/uscms_data/d3/christiw/CMSSW_11_3_4/src/MDS_CMSDAS2023/combine/datacards/'\n",
    "limitDir = '/uscms_data/d3/christiw/CMSSW_11_3_4/src/MDS_CMSDAS2023/combine/limitTrees/'\n",
    "ctaus = np.array([10, 50, 100, 500, 1000,5000, 10000, 50000, 100000,int(2e5),int(3e5),int(5e5), \\\n",
    "                        int(2e6),int(3e6),int(5e6),int(1e7)])\n",
    "\n",
    "\n",
    "limitTrees = {}\n",
    "dataCards = {}\n",
    "limits = np.ones((len(ctaus), 6))*1000000\n",
    "\n",
    "for ct in ctaus:\n",
    "    name = 'ggH_HToSSTobbbb_mh125_mx40'\n",
    "    dataCards[ct] = dataCardDir + '/'+name+'_ctau'+str(ct)+'mm.txt'\n",
    "    limitTrees[ct] = limitDir + '/'+'/higgsCombine.'+name + '_ctau'+str(ct)+'mm.AsymptoticLimits.mH120.root'\n",
    "for i,m in enumerate(limitTrees.keys()):\n",
    "    if not os.path.isfile(dataCards[m]):\n",
    "        print(dataCards[m])\n",
    "        continue\n",
    "    signal_norm = readNorm(dataCards[m])\n",
    "    if signal_norm == 0:continue\n",
    "    if len(uproot.open(limitTrees[m]).keys()) == 2:\n",
    "        T = uproot.open(limitTrees[m])['limit']\n",
    "        limits[i] = np.array(T['limit'].array())/signal_norm\n",
    "limits = np.array(limits)\n",
    "\n",
    "print(ctaus)\n",
    "\n"
   ]
  },
  {
   "cell_type": "markdown",
   "metadata": {},
   "source": [
    "# Plotting expected and observed Limit"
   ]
  },
  {
   "cell_type": "code",
   "execution_count": 6,
   "metadata": {},
   "outputs": [
    {
     "name": "stderr",
     "output_type": "stream",
     "text": [
      "Warning in <TCanvas::Constructor>: Deleting canvas with same name: c\n"
     ]
    },
    {
     "data": {
      "image/png": "[encoded data removed]",
      "text/plain": [
       "<IPython.core.display.Image object>"
      ]
     },
     "metadata": {},
     "output_type": "display_data"
    }
   ],
   "source": [
    "opac_1sig = 0.25\n",
    "\n",
    "\n",
    "leg = rt.TLegend(0.65,0.2,0.95,0.38)\n",
    "\n",
    "\n",
    "\n",
    "leg.SetTextSize(0.03)\n",
    "leg.SetBorderSize(0)\n",
    "leg.SetEntrySeparation(0.01)\n",
    "leg.SetTextFont(42)\n",
    "c = rt.TCanvas('c','c', 800, 800)\n",
    "c.SetRightMargin(0.04)\n",
    "\n",
    "\n",
    "rt.gStyle.SetOptFit(1011)\n",
    "ctaus_m = ctaus/1000\n",
    "\n",
    "cond = limits[:,2] < 1000000\n",
    "\n",
    "\n",
    "h = rt.TGraph(len(ctaus_m[cond]),ctaus_m[cond], limits[:,2][cond])\n",
    "h_obs = rt.TGraph(len(ctaus_m[cond]),ctaus_m[cond], limits[:,5][cond])\n",
    "h_exp1sig = rt.TGraph(2*len(ctaus_m[cond]), np.hstack((ctaus_m[cond], np.flip(ctaus_m[cond]))), np.hstack((limits[:,1][cond], np.flip(limits[:,3][cond]))))\n",
    "\n",
    "leg.AddEntry(h_obs, \"Observed\", \"LP\")\n",
    "leg.AddEntry(h, \"Median Expected\", \"L\")\n",
    "leg.AddEntry(h_exp1sig, \"#pm 1 #sigma Expected\", 'F')\n",
    "\n",
    "h_exp1sig.SetFillColorAlpha(1,opac_1sig)\n",
    "h.SetLineColor(1)\n",
    "h_obs.SetLineColor(1)\n",
    "h_obs.SetMarkerColor(1)\n",
    "\n",
    "\n",
    "h_obs.SetLineWidth(3)\n",
    "\n",
    "h.SetLineStyle(2)\n",
    "h.SetLineWidth(3)\n",
    "h.GetXaxis().SetTitle('c#tau [m]')\n",
    "h.GetYaxis().SetTitle('95% CL Limit on BR (h #rightarrow SS)')\n",
    "h.GetXaxis().SetLimits(0.01,10000.0)\n",
    "h.GetYaxis().SetRangeUser(5e-4,50)\n",
    "h.GetYaxis().SetRangeUser(1e-4,2)\n",
    "\n",
    "h.GetXaxis().SetTitleOffset(1)\n",
    "h.GetYaxis().SetTitleSize(0.05)\n",
    "h.GetYaxis().SetTitleOffset(1.5)\n",
    "\n",
    "h.Draw('LPA')\n",
    "h_obs.Draw('Lsame')\n",
    "h_exp1sig.Draw('Fsame')\n",
    "\n",
    "\n",
    "leg.Draw()\n",
    "c.SetLogy()\n",
    "c.SetLogx()\n",
    "c.SetTicky(1)\n",
    "c.SetTickx(1)\n",
    "\n",
    "\n",
    "latex = rt.TLatex()\n",
    "latex.SetTextSize(0.06)\n",
    "latex.SetTextFont(42)\n",
    "\n",
    "\n",
    "tdrstyle.setTDRStyle()\n",
    "c.Draw()\n"
   ]
  },
  {
   "cell_type": "code",
   "execution_count": null,
   "metadata": {},
   "outputs": [],
   "source": []
  }
 ],
 "metadata": {
  "kernelspec": {
   "display_name": "Python 3 (ipykernel)",
   "language": "python",
   "name": "python3"
  },
  "language_info": {
   "codemirror_mode": {
    "name": "ipython",
    "version": 3
   },
   "file_extension": ".py",
   "mimetype": "text/x-python",
   "name": "python",
   "nbconvert_exporter": "python",
   "pygments_lexer": "ipython3",
   "version": "3.9.12"
  }
 },
 "nbformat": 4,
 "nbformat_minor": 4
}
