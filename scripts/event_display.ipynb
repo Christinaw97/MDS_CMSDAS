{
 "cells": [
  {
   "cell_type": "code",
   "execution_count": null,
   "metadata": {},
   "outputs": [],
   "source": [
    "import ROOT as rt\n",
    "import uproot\n",
    "import numpy as np\n",
    "from collections import OrderedDict\n",
    "import csv\n",
    "import os\n",
    "import math\n",
    "import sys\n",
    "sys.path.append(os.getcwd().replace('scripts', 'lib'))\n",
    "\n",
    "\n",
    "import tdrstyle\n",
    "a = tdrstyle.setTDRStyle()\n",
    "\n",
    "print(sys.version)"
   ]
  },
  {
   "cell_type": "markdown",
   "metadata": {},
   "source": [
    "# Load ntuples\n",
    "open one signal simulation sample and choose interesting events to select from there"
   ]
  },
  {
   "cell_type": "code",
   "execution_count": null,
   "metadata": {
    "scrolled": false
   },
   "outputs": [],
   "source": [
    "fpath =OrderedDict()\n",
    "tree = OrderedDict()\n",
    "\n",
    "\n",
    "mass = [40]\n",
    "OLD_CTAU = np.array([1000])#in mm\n",
    "path = '/eos/uscms/store/user/cmsdas/2024/long_exercises/MDS/signal/nocuts/'\n",
    "for m in mass:\n",
    "    for ct in OLD_CTAU:\n",
    "        key = 'MC_'+str(m)+'_'+str(ct)                       \n",
    "        fpath[key] = path +  'ggH_HToSSTobbbb_MH-125_MS-40_ctau-'+str(ct)+'_137000pb_weighted.root'\n",
    "\n",
    "for k,v in fpath.items():\n",
    "    root_dir = uproot.open(v) \n",
    "    if not root_dir: \n",
    "        print(k, \"zombie\")\n",
    "        continue\n",
    "    tree[k] = root_dir['MuonSystem']\n",
    "    print(k)"
   ]
  },
  {
   "cell_type": "markdown",
   "metadata": {},
   "source": [
    "# Selections\n",
    "Make signal region selections to select for large clusters from LLPs and save the run number, lumi section, and event numbers"
   ]
  },
  {
   "cell_type": "code",
   "execution_count": null,
   "metadata": {},
   "outputs": [],
   "source": [
    "deltaPhi = {}\n",
    "Nhits = {}\n",
    "runNum = {}\n",
    "evtNum = {}\n",
    "lumiNum = {}\n",
    "\n",
    "\n",
    "for k, T in tree.items():\n",
    "    \n",
    "    ########### SELECTION: CLUSTERS ############\n",
    "\n",
    "    sel_rechitcluster = np.abs(T['cscRechitClusterEta'].array()) < 2.0\n",
    "\n",
    "    me1112_veto = 0\n",
    "    sel_rechitcluster = np.logical_and(sel_rechitcluster, T['cscRechitClusterNRechitChamberPlus11'].array() <= me1112_veto)\n",
    "    sel_rechitcluster = np.logical_and(sel_rechitcluster, T['cscRechitClusterNRechitChamberPlus12'].array() <= me1112_veto)\n",
    "    sel_rechitcluster = np.logical_and(sel_rechitcluster, T['cscRechitClusterNRechitChamberMinus11'].array() <= me1112_veto)\n",
    "    sel_rechitcluster = np.logical_and(sel_rechitcluster, T['cscRechitClusterNRechitChamberMinus12'].array() <= me1112_veto)\n",
    "\n",
    "    sel_rechitcluster = np.logical_and(sel_rechitcluster, T['cscRechitCluster_match_MB1Seg_0p4'].array() <= me1112_veto)\n",
    "    sel_rechitcluster = np.logical_and(sel_rechitcluster, T['cscRechitCluster_match_RE12_0p4'].array() <= me1112_veto)\n",
    "    sel_rechitcluster = np.logical_and(sel_rechitcluster, T['cscRechitCluster_match_RB1_0p4'].array() <= me1112_veto)\n",
    "\n",
    "    sel_rechitcluster = np.logical_and( sel_rechitcluster, T['cscRechitClusterJetVetoPt'].array() < 10)\n",
    "    sel_rechitcluster = np.logical_and( sel_rechitcluster, T['cscRechitClusterMuonVetoPt'].array() < 20)\n",
    "    sel_rechitcluster = np.logical_and(sel_rechitcluster, T['cscRechitClusterTimeSpread'].array() < 20)\n",
    "\n",
    "    sel_rechitcluster = np.logical_and(sel_rechitcluster, np.logical_and(T['cscRechitClusterTime'].array() < 12.5, \\\n",
    "                                                                         T['cscRechitClusterTime'].array() > -5.0))\n",
    "\n",
    "    ########### SELECTION: JETS ############\n",
    "\n",
    "    sel_jet = np.logical_and(T['jetPt'].array() > 30, np.abs(T['jetEta'].array()) < 2.4 )\n",
    "    sel_jet = np.logical_and(sel_jet, T['jetTightPassId'].array())\n",
    "\n",
    "    ########### SELECTION: EVENTS ############\n",
    "    sel_ev = T['METTrigger'].array()\n",
    "    sel_ev = np.logical_and(sel_ev ,T['met'].array() > 200)\n",
    "    sel_ev = np.logical_and(sel_ev,T['metFilters'].array())\n",
    "    sel_ev = np.logical_and(sel_ev , np.sum(sel_jet,axis=1)>=1)\n",
    "    sel_ev  = np.logical_and(sel_ev,np.sum(sel_rechitcluster,axis=1) >= 1)\n",
    "    sel_ev  = np.logical_and(sel_ev,T['MC_condition'].array() == 2017)\n",
    "\n",
    "\n",
    "    ##### cut based ID ####\n",
    "    cscRechitClusterNStation = T['cscRechitClusterNStation'].array()[sel_rechitcluster][sel_ev][:,0]\n",
    "    cscRechitClusterEta = T['cscRechitClusterEta'].array()[sel_rechitcluster][sel_ev][:,0]\n",
    "    cscRechitClusterAvgStation = T['cscRechitClusterAvgStation'].array()[sel_rechitcluster][sel_ev][:,0]\n",
    "    cond2 = np.logical_and(np.abs(cscRechitClusterAvgStation)==2, np.abs(cscRechitClusterEta) < 1.6)\n",
    "    cond3 = np.logical_and(np.abs(cscRechitClusterAvgStation)==3, np.abs(cscRechitClusterEta) < 1.6)\n",
    "    cond4 = np.logical_and(np.abs(cscRechitClusterAvgStation)==4, np.abs(cscRechitClusterEta) < 1.8)\n",
    "    cond1 = np.logical_and(cscRechitClusterNStation==1, np.logical_or(np.logical_or(np.abs(cscRechitClusterAvgStation)==1, cond2), np.logical_or(cond3, cond4)))\n",
    "    cond2 = np.logical_and(cscRechitClusterNStation > 1, np.abs(cscRechitClusterEta) < 1.9)\n",
    "    bdt_sel = np.logical_or(np.logical_or(cond1, cond2), np.logical_or(cond3, cond4))\n",
    "\n",
    "    #### Save variables needed ####                                   \n",
    "\n",
    "    deltaPhi[k] = T['cscRechitClusterMet_dPhi'].array()[sel_rechitcluster][sel_ev][:,0][bdt_sel]\n",
    "    Nhits[k] = T['cscRechitClusterSize'].array()[sel_rechitcluster][sel_ev][:,0][bdt_sel]\n",
    "    \n",
    "    evtNum[k] =  T['evtNum'].array()[sel_ev][bdt_sel]\n",
    "    runNum[k] = T['runNum'].array()[sel_ev][bdt_sel]\n",
    "    lumiNum[k] = T['lumiSec'].array()[sel_ev][bdt_sel]\n",
    "    \n",
    "    \n",
    "    \n",
    "    print(k)"
   ]
  },
  {
   "cell_type": "markdown",
   "metadata": {},
   "source": [
    "### Now you will write the event/run/lumi number of the events that you want to choose in a text file"
   ]
  },
  {
   "cell_type": "code",
   "execution_count": null,
   "metadata": {},
   "outputs": [],
   "source": [
    "output_text_path = os.getcwd().replace('scripts', 'event_display')\n",
    "if not os.path.isdir(output_text_path):os.makedirs(output_text_path)\n",
    "print(output_text_path)"
   ]
  },
  {
   "cell_type": "markdown",
   "metadata": {},
   "source": [
    "Make the selections that you want to select for events (You can change the `Nhits` threshold to even large numbers to get more interesting events to view!)\n",
    "\n",
    "The code currently selects for the first 10 events to save, don't change this number to more than 10, the next steps might take significantly longer"
   ]
  },
  {
   "cell_type": "code",
   "execution_count": null,
   "metadata": {},
   "outputs": [],
   "source": [
    "# select events\n",
    "selection = np.logical_and(Nhits[k]>500, np.abs(deltaPhi[k])<0.75)\n",
    "print(np.count_nonzero(selection))\n",
    "\n",
    "text_file = open(output_text_path + \"/event_display.txt\", \"w\")\n",
    "\n",
    "# choose the first 10 events to view, don't change this number to more than 10, \n",
    "# the next steps might take significantly longer\n",
    "for i in range(10):\n",
    "    print('{}:{}:{}'.format(runNum[k][i], lumiNum[k][i], evtNum[k][i]))\n",
    "    text_file.write('{}:{}:{} \\n'.format(runNum[k][i], lumiNum[k][i], evtNum[k][i]))\n",
    "text_file.close()"
   ]
  }
 ],
 "metadata": {
  "kernelspec": {
   "display_name": "Python 3 (ipykernel)",
   "language": "python",
   "name": "python3"
  },
  "language_info": {
   "codemirror_mode": {
    "name": "ipython",
    "version": 3
   },
   "file_extension": ".py",
   "mimetype": "text/x-python",
   "name": "python",
   "nbconvert_exporter": "python",
   "pygments_lexer": "ipython3",
   "version": "3.9.12"
  }
 },
 "nbformat": 4,
 "nbformat_minor": 4
}
