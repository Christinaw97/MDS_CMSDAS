{
 "cells": [
  {
   "cell_type": "code",
   "execution_count": 2,
   "metadata": {},
   "outputs": [
    {
     "name": "stdout",
     "output_type": "stream",
     "text": [
      "Welcome to JupyROOT 6.28/00\n",
      "3.9.12 (main, Jun  7 2022, 16:09:12) \n",
      "[GCC 11.2.0]\n"
     ]
    }
   ],
   "source": [
    "import ROOT as rt\n",
    "import uproot\n",
    "import numpy as np\n",
    "from collections import OrderedDict\n",
    "import os\n",
    "import sys\n",
    "sys.path.append(os.getcwd().replace('scripts', 'lib'))\n",
    "\n",
    "import tdrstyle\n",
    "a = tdrstyle.setTDRStyle()\n",
    "\n",
    "print(sys.version)"
   ]
  },
  {
   "cell_type": "markdown",
   "metadata": {},
   "source": [
    "# Load ntuples\n",
    "Here we will load ntuples for signal and data (high-MET skim), where the clusters are already reconstructed and stored in the ntuples. We will use these ntuples to plot some of the key variables that will used to veto background clusters"
   ]
  },
  {
   "cell_type": "code",
   "execution_count": 3,
   "metadata": {
    "scrolled": false
   },
   "outputs": [],
   "source": [
    "fpath =OrderedDict()\n",
    "tree = OrderedDict()\n",
    "\n",
    "# load high-MET skim data\n",
    "path = '/eos/uscms/store/user/cmsdas/2024/long_exercises/MDS/data/'\n",
    "fpath['data'] = path + 'Run2_displacedJetMuonNtupler_V1p17_Data2016_Data2017_Data2018-HighMET_goodLumi.root'\n",
    "\n",
    "\n",
    "# load signal sample with m = 40 GeV and 4 different ctau points\n",
    "path = '/eos/uscms/store/user/cmsdas/2024/long_exercises/MDS/signal/nocuts/'\n",
    "\n",
    "mass = [40]\n",
    "OLD_CTAU = np.array([1000, 10000, 100000])#in mm\n",
    "\n",
    "for m in mass:\n",
    "    for ct in OLD_CTAU:\n",
    "        key = 'MC_'+str(m)+'_'+str(ct)                       \n",
    "        fpath[key] = path +  'ggH_HToSSTobbbb_MH-125_MS-40_ctau-'+str(ct)+'_137000pb_weighted.root'\n",
    "\n",
    "for k,v in fpath.items():\n",
    "    root_dir = uproot.open(v) \n",
    "    if not root_dir: \n",
    "        print(k, \"zombie\")\n",
    "        continue\n",
    "    tree[k] = root_dir['MuonSystem']\n"
   ]
  },
  {
   "cell_type": "markdown",
   "metadata": {},
   "source": [
    "# Ex0 - Basic Selections and Load Branches"
   ]
  },
  {
   "cell_type": "code",
   "execution_count": 4,
   "metadata": {},
   "outputs": [
    {
     "name": "stdout",
     "output_type": "stream",
     "text": [
      "data 906128.0\n",
      "MC_40_1000 8391.234\n",
      "MC_40_10000 5881.3994\n",
      "MC_40_100000 804.09265\n",
      "CPU times: user 17.5 s, sys: 4.57 s, total: 22.1 s\n",
      "Wall time: 1min 23s\n"
     ]
    }
   ],
   "source": [
    "%%time\n",
    "\n",
    "deltaPhi = {}\n",
    "Nhits = {}\n",
    "weight = {}\n",
    "cscRechitClusterJetVeto = {}\n",
    "cscRechitClusterMuonVeto = {}\n",
    "cscRechitClusterTimeSpread = {}\n",
    "cscRechitClusterTime = {}\n",
    "cscRechitClusterEta = {}\n",
    "cscRechitClusterMe1112 = {}\n",
    "\n",
    "for k, T in tree.items():\n",
    "    \n",
    "    ########### SELECTION: CLUSTERS ############\n",
    "    if 'data' in k:sel_clusters = T['cscRechitClusterSize'].array() > 0\n",
    "    else: sel_clusters = np.logical_and(T['cscRechitCluster_match_gLLP'].array(), T['cscRechitCluster_match_gLLP_csc'].array())\n",
    "\n",
    "    ########### SELECTION: JETS ############\n",
    "\n",
    "    sel_jet = np.logical_and(T['jetPt'].array() > 30, np.abs(T['jetEta'].array()) < 2.4 )\n",
    "    sel_jet = np.logical_and(sel_jet, T['jetTightPassId'].array())\n",
    "\n",
    "    ########### SELECTION: EVENTS ############\n",
    "    sel_ev = T['METTrigger'].array()\n",
    "    sel_ev  = np.logical_and(sel_ev,np.sum(sel_clusters, axis = 1)>0)\n",
    "    sel_ev = np.logical_and(sel_ev ,T['met'].array() > 200)\n",
    "    sel_ev = np.logical_and(sel_ev,T['metFilters'].array())\n",
    "    sel_ev = np.logical_and(sel_ev , np.sum(sel_jet,axis=1)>=1)\n",
    "\n",
    "    #### Save variables needed ####                                   \n",
    "\n",
    "    deltaPhi[k] = T['cscRechitClusterMet_dPhi'].array()[sel_clusters][sel_ev][:,0]\n",
    "    Nhits[k] = T['cscRechitClusterSize'].array()[sel_clusters][sel_ev][:,0]\n",
    "    cscRechitClusterJetVeto[k] = T['cscRechitClusterJetVetoPt'].array()[sel_clusters][sel_ev][:,0]\n",
    "    cscRechitClusterMuonVeto[k] = T['cscRechitClusterMuonVetoPt'].array()[sel_clusters][sel_ev][:,0]\n",
    "    cscRechitClusterTime[k] = T['cscRechitClusterTime'].array()[sel_clusters][sel_ev][:,0]\n",
    "    cscRechitClusterEta[k] = T['cscRechitClusterEta'].array()[sel_clusters][sel_ev][:,0]\n",
    "    cscRechitClusterMe1112[k] = (T['cscRechitClusterNRechitChamberPlus11'].array() \\\n",
    "                                 + T['cscRechitClusterNRechitChamberMinus11'].array() \\\n",
    "                                 + T['cscRechitClusterNRechitChamberPlus12'].array() \\\n",
    "                                 + T['cscRechitClusterNRechitChamberMinus12'].array())[sel_clusters][sel_ev][:,0]\n",
    "                               \n",
    "\n",
    "    weight[k] = T['weight'].array()[sel_ev]\n",
    "    print(k, np.sum(weight[k]))"
   ]
  },
  {
   "cell_type": "markdown",
   "metadata": {},
   "source": [
    "#### choose your favorite color in ROOT:  https://root.cern.ch/doc/master/classTColor.html#C01\n"
   ]
  },
  {
   "cell_type": "code",
   "execution_count": 5,
   "metadata": {},
   "outputs": [],
   "source": [
    "std_color_list = [1,2,4,6,8] "
   ]
  },
  {
   "cell_type": "markdown",
   "metadata": {},
   "source": [
    "# Ex1 - plot jet veto and muon veto"
   ]
  },
  {
   "cell_type": "markdown",
   "metadata": {},
   "source": [
    "The dominant background from the main collision comes from punch-through jets that are not fully contained in the calorimeters and high pT muons that could create bremsstrahlung showers in the muon detectors. To remove those background, we reject clusters by matching them to reconstructed jets and muon.\n",
    "The pT of the jet/muon that the cluster is matched to are saved in objects called `cscRechitClusterJetVetoPt` and `cscRechitClusterMuonVetoPt`.\n",
    "In this exercise you will plot the two variables for signal and background and apply a selection on the two variables to remove clusters from jets and muons."
   ]
  },
  {
   "cell_type": "markdown",
   "metadata": {},
   "source": [
    "## plot jet veto"
   ]
  },
  {
   "cell_type": "code",
   "execution_count": null,
   "metadata": {},
   "outputs": [],
   "source": [
    "leg = rt.TLegend(0.6,0.75,0.90,0.90)\n",
    "leg.SetTextSize(0.03)\n",
    "leg.SetBorderSize(0)\n",
    "leg.SetEntrySeparation(0.01)\n",
    "c = rt.TCanvas('c','c', 800, 800)\n",
    "rt.gStyle.SetOptFit(1011)\n",
    "h = {}\n",
    "for i, k in enumerate(tree.keys()):\n",
    "    \n",
    "    h[k] = rt.TH1D('', '', 50, 0, 500)\n",
    "    h[k].SetXTitle('jet veto pT [GeV]')\n",
    "    h[k].SetYTitle('Fraction of events')\n",
    "    for j in range(len(cscRechitClusterJetVeto[k])): h[k].Fill(cscRechitClusterJetVeto[k][j])\n",
    "\n",
    "    # calculate the efficiency of the cuts  \n",
    "    print(k, np.count_nonzero(cscRechitClusterJetVeto[k]<10)/len(cscRechitClusterJetVeto[k]))\n",
    "    \n",
    "    h[k].SetLineColor(std_color_list[i])\n",
    "    h[k].Scale(1./h[k].Integral())\n",
    "    h[k].SetMaximum(1)\n",
    "    if k == 'data':leg.AddEntry(h[k],k)\n",
    "    else: leg.AddEntry(h[k],'c#tau = {} mm'.format(k.split('_')[-1]))\n",
    "    h[k].Draw('hist same')\n",
    "leg.Draw()\n",
    "c.SetLogy()\n",
    "c.SetRightMargin(0.03)\n",
    "c.Draw()"
   ]
  },
  {
   "cell_type": "markdown",
   "metadata": {},
   "source": [
    "## plot muon veto\n",
    "Now repeat for muon veto in the cell below by filling in the for loop"
   ]
  },
  {
   "cell_type": "code",
   "execution_count": null,
   "metadata": {},
   "outputs": [],
   "source": [
    "leg = rt.TLegend(0.6,0.75,0.90,0.90)\n",
    "leg.SetTextSize(0.03)\n",
    "leg.SetBorderSize(0)\n",
    "leg.SetEntrySeparation(0.01)\n",
    "c = rt.TCanvas('c','c', 800, 800)\n",
    "rt.gStyle.SetOptFit(1011)\n",
    "h = {}\n",
    "for i, k in enumerate(tree.keys()):\n",
    "   \n",
    "    # FILL IN HERE\n",
    "    # think about the bin ranges and number of bins you want to in the histogram before plotting\n",
    "    # good place to start is to have the same bins as jet veto\n",
    "    \n",
    "leg.Draw()\n",
    "c.SetLogy()\n",
    "c.SetRightMargin(0.03)\n",
    "c.Draw()"
   ]
  },
  {
   "cell_type": "markdown",
   "metadata": {},
   "source": [
    "# Ex2 - plot number of ME11 and ME12 hits in the cluster\n",
    "\n",
    "Additionally, punch-through jets or muon bremsstrahlung showers might not get reconstructed as jets and muons.\n",
    "To fully remove these background, we remove clusters that have hits in the first CSC stations (ME11/ME12) that have little shielding in front.\n",
    "\n",
    "In this exercise you will plot the number of ME11/ME12 hits in clusters for signal and background by filling in the for loop."
   ]
  },
  {
   "cell_type": "markdown",
   "metadata": {},
   "source": [
    "## plot number of ME11 and ME12 hits in cluster"
   ]
  },
  {
   "cell_type": "code",
   "execution_count": null,
   "metadata": {},
   "outputs": [],
   "source": [
    "%%time\n",
    "\n",
    "leg = rt.TLegend(0.6,0.75,0.90,0.90)\n",
    "leg.SetTextSize(0.03)\n",
    "leg.SetBorderSize(0)\n",
    "leg.SetEntrySeparation(0.01)\n",
    "c = rt.TCanvas('c','c', 800, 800)\n",
    "rt.gStyle.SetOptFit(1011)\n",
    "h = {}\n",
    "for i, k in enumerate(tree.keys()):\n",
    "    \n",
    "    # FILL IN HERE\n",
    "    # think about the bin ranges and number of bins you want to in the histogram before plotting\n",
    "\n",
    "leg.Draw()\n",
    "c.SetLogy()\n",
    "c.SetRightMargin(0.03)\n",
    "c.Draw()"
   ]
  },
  {
   "cell_type": "markdown",
   "metadata": {},
   "source": [
    "# Ex3 - plot cluster eta\n",
    "\n",
    "After we removed punch-through jets and muon brems, we observed that there are a lot more backgorund in higher $\\eta$ region, where the muon reconstruction efficiency is lower and more pileup particles are present to create clusters.\n",
    "\n",
    "In this exercise you will plot the cluster $\\eta$ for signal and background and apply a selection on the variable to remove clusters from high $\\eta$ region."
   ]
  },
  {
   "cell_type": "code",
   "execution_count": null,
   "metadata": {},
   "outputs": [],
   "source": [
    "%%time\n",
    "\n",
    "leg = rt.TLegend(0.6,0.75,0.90,0.90)\n",
    "leg.SetTextSize(0.03)\n",
    "leg.SetBorderSize(0)\n",
    "leg.SetEntrySeparation(0.01)\n",
    "c = rt.TCanvas('c','c', 800, 800)\n",
    "rt.gStyle.SetOptFit(1011)\n",
    "h = {}\n",
    "for i, k in enumerate(tree.keys()):\n",
    "    \n",
    "    # FILL IN HERE\n",
    "    # think about the bin ranges and number of bins you want to in the histogram before plotting\n",
    "    \n",
    "leg.Draw()\n",
    "c.SetLogy()\n",
    "c.SetRightMargin(0.03)\n",
    "c.Draw()"
   ]
  },
  {
   "cell_type": "markdown",
   "metadata": {},
   "source": [
    "# Ex4 - plot cluster time (after vetos are applied)\n",
    "\n",
    "The remaining background clusters after punch-through jet and muon brem showers from the main collision are removed, are from low pT particles in pileup events.\n",
    "\n",
    "To verify this, you will plot the cluster time for signal and background, after applying the vetoes, in this exercise to check for any out-of-time pileup contributions in data.\n",
    "\n",
    "Try running the code as it is first (with veto selections applied)\n",
    "And then comment out or loosen the selections and see if the data distribution changes? If it does, do you know why?"
   ]
  },
  {
   "cell_type": "code",
   "execution_count": null,
   "metadata": {},
   "outputs": [],
   "source": [
    "%%time\n",
    "\n",
    "leg = rt.TLegend(0.6,0.75,0.90,0.90)\n",
    "leg.SetTextSize(0.03)\n",
    "leg.SetBorderSize(0)\n",
    "leg.SetEntrySeparation(0.01)\n",
    "c = rt.TCanvas('c','c', 800, 800)\n",
    "rt.gStyle.SetOptFit(1011)\n",
    "h = {}\n",
    "for i, k in enumerate(tree.keys()):\n",
    "    \n",
    "    h[k] = rt.TH1D('', '', 50, -100, 100)\n",
    "    h[k].SetXTitle('cluster time [ns]')\n",
    "    h[k].SetYTitle('Fraction of events')\n",
    "    \n",
    "    # apply veto selections\n",
    "    sel = np.abs(cscRechitClusterEta[k])<2\n",
    "    sel = np.logical_and(sel, cscRechitClusterJetVeto[k]<10)\n",
    "    sel = np.logical_and(sel, cscRechitClusterMuonVeto[k]<20)\n",
    "    \n",
    "    time_temp = cscRechitClusterTime[k][sel]\n",
    "    for j in range(len(time_temp)): h[k].Fill(time_temp[j])\n",
    "\n",
    "    # calculate the efficiency of the cuts  \n",
    "    print(k, np.count_nonzero(np.logical_and(time_temp<12.5, time_temp>-5))/len(time_temp))\n",
    "    \n",
    "    h[k].SetLineColor(std_color_list[i])\n",
    "    h[k].Scale(1./h[k].Integral())\n",
    "    h[k].SetMaximum(1)\n",
    "    if k == 'data':leg.AddEntry(h[k],k)\n",
    "    else: leg.AddEntry(h[k],'c#tau = {} mm'.format(k.split('_')[-1]))\n",
    "    h[k].Draw('hist same')\n",
    "\n",
    "leg.Draw()\n",
    "c.SetRightMargin(0.03)\n",
    "c.Draw()"
   ]
  },
  {
   "cell_type": "markdown",
   "metadata": {},
   "source": [
    "# Ex5 - plot $\\Delta\\phi\\mathrm{(cluster, MET)}$ and $N_{hits}$ in Out-of-time Validation Region (final discriminating variables)\n",
    "\n",
    "\n",
    "The final discriminating variables that we will use to extract the signal and estimate background are the number of hits in the cluster ($N_{\\text{hits}}$) and the azimuthal angle between the cluster and MET ( $\\Delta\\phi\\text{(cluster, MET)}$).\n",
    "The background estimation method will be described in more detail in the next episode.\n",
    "In this exercise, we will just plot the distributions of the two variables, to understand the shape of the two variables."
   ]
  },
  {
   "cell_type": "markdown",
   "metadata": {},
   "source": [
    "## plot $N_\\text{hits}$\n",
    "Run the cell below to plot the $N_{\\text{hits}}$ distributions"
   ]
  },
  {
   "cell_type": "code",
   "execution_count": null,
   "metadata": {},
   "outputs": [],
   "source": [
    "%%time\n",
    "\n",
    "leg = rt.TLegend(0.6,0.75,0.90,0.90)\n",
    "leg.SetTextSize(0.03)\n",
    "leg.SetBorderSize(0)\n",
    "leg.SetEntrySeparation(0.01)\n",
    "c = rt.TCanvas('c','c', 800, 800)\n",
    "rt.gStyle.SetOptFit(1011)\n",
    "h = {}\n",
    "for i, k in enumerate(tree.keys()):\n",
    "    \n",
    "    h[k] = rt.TH1D('', '', 50, 50, 1000)\n",
    "    h[k].SetXTitle('N_{hits}')\n",
    "    h[k].SetYTitle('Fraction of events')\n",
    "    \n",
    "    sel = np.logical_and(cscRechitClusterJetVeto[k]<10, cscRechitClusterMuonVeto[k]<20)\n",
    "    sel = np.logical_and(sel, np.abs(cscRechitClusterEta[k])<2)\n",
    "    \n",
    "    if 'data' in k: sel = np.logical_and(sel, cscRechitClusterTime[k]<-12.5)\n",
    "    nhits_temp = Nhits[k][sel]\n",
    "    for j in range(len(nhits_temp)): h[k].Fill(nhits_temp[j])\n",
    "        \n",
    "    # calculate the efficiency of the cuts  \n",
    "    print(k, np.count_nonzero(nhits_temp>130)/len(nhits_temp))\n",
    "    \n",
    "    h[k].SetLineColor(std_color_list[i])\n",
    "    h[k].Scale(1./h[k].Integral())\n",
    "    h[k].SetMaximum(1)\n",
    "    h[k].SetMinimum(1e-3)\n",
    "    if k == 'data':leg.AddEntry(h[k],k)\n",
    "    else: leg.AddEntry(h[k],'c#tau = {} mm'.format(k.split('_')[-1]))\n",
    "    h[k].Draw('hist same')\n",
    "\n",
    "leg.Draw()\n",
    "c.SetLogy()\n",
    "c.SetRightMargin(0.03)\n",
    "c.Draw()"
   ]
  },
  {
   "cell_type": "markdown",
   "metadata": {},
   "source": [
    "## plot $\\Delta\\phi\\mathrm{(cluster, MET)}$\n",
    "Fill in the for loop to plot $\\Delta\\phi\\mathrm{(cluster, MET)}$ distribution\n",
    "Why does the distribution peak at 0 for signal, but flat for background distribution?"
   ]
  },
  {
   "cell_type": "code",
   "execution_count": null,
   "metadata": {},
   "outputs": [],
   "source": [
    "%%time\n",
    "\n",
    "leg = rt.TLegend(0.6,0.75,0.90,0.90)\n",
    "leg.SetTextSize(0.03)\n",
    "leg.SetBorderSize(0)\n",
    "leg.SetEntrySeparation(0.01)\n",
    "c = rt.TCanvas('c','c', 800, 800)\n",
    "rt.gStyle.SetOptFit(1011)\n",
    "h = {}\n",
    "for i, k in enumerate(tree.keys()):\n",
    "   \n",
    "    # FILL IN HERE\n",
    "    # think about the bin ranges and number of bins you want to in the histogram before plotting\n",
    "\n",
    "leg.Draw()\n",
    "c.SetRightMargin(0.03)\n",
    "c.Draw()"
   ]
  },
  {
   "cell_type": "code",
   "execution_count": null,
   "metadata": {},
   "outputs": [],
   "source": []
  }
 ],
 "metadata": {
  "kernelspec": {
   "display_name": "Python 3 (ipykernel)",
   "language": "python",
   "name": "python3"
  },
  "language_info": {
   "codemirror_mode": {
    "name": "ipython",
    "version": 3
   },
   "file_extension": ".py",
   "mimetype": "text/x-python",
   "name": "python",
   "nbconvert_exporter": "python",
   "pygments_lexer": "ipython3",
   "version": "3.9.12"
  }
 },
 "nbformat": 4,
 "nbformat_minor": 4
}
