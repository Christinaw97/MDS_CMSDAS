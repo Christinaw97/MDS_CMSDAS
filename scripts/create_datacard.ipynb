{
 "cells": [
  {
   "cell_type": "code",
   "execution_count": 1,
   "metadata": {},
   "outputs": [
    {
     "name": "stdout",
     "output_type": "stream",
     "text": [
      "Welcome to JupyROOT 6.28/00\n",
      "3.9.12 (main, Jun  7 2022, 16:09:12) \n",
      "[GCC 11.2.0]\n"
     ]
    }
   ],
   "source": [
    "import ROOT as rt\n",
    "import uproot\n",
    "import numpy as np\n",
    "from collections import OrderedDict\n",
    "import csv\n",
    "import os\n",
    "import math\n",
    "import sys\n",
    "sys.path.append(\"/uscms/home/christiw/nobackup/CMSSW_11_3_4/src/MDS_CMSDAS2023/lib\")\n",
    "\n",
    "import importlib\n",
    "import helper\n",
    "importlib.reload(sys.modules['helper'])\n",
    "from helper import  weight_calc, make_datacard\n",
    "\n",
    "import tdrstyle\n",
    "a = tdrstyle.setTDRStyle()\n",
    "\n",
    "print(sys.version)"
   ]
  },
  {
   "cell_type": "markdown",
   "metadata": {},
   "source": [
    "# Load ntuples"
   ]
  },
  {
   "cell_type": "code",
   "execution_count": 2,
   "metadata": {
    "scrolled": false
   },
   "outputs": [],
   "source": [
    "fpath =OrderedDict()\n",
    "tree = OrderedDict()\n",
    "\n",
    "prod =['ggH']\n",
    "decay = 'bbbb'\n",
    "\n",
    "\n",
    "\n",
    "mass = [15, 40, 55]\n",
    "if not decay == 'bbbb': mass = [7, 15, 40, 55]\n",
    "\n",
    "OLD_CTAU = np.array([100, 1000, 10000, 100000])#in mm\n",
    "\n",
    "\n",
    "\n",
    "path = '/uscms/home/christiw/nobackup/CMSSW_11_3_4/src/MDS_CMSDAS2023/ntuples/'\n",
    "\n",
    "fpath['data'] = path + 'Run2_displacedJetMuonNtupler_V1p17_Data2018_17Sept2018_Run2018B-HighMET-17Sep2018_Job9_of_20.root'\n",
    "\n",
    "\n",
    "\n",
    "for m in mass:\n",
    "    for ct in OLD_CTAU:\n",
    "        key = 'MC_'+str(m)+'_'+str(ct)                       \n",
    "        fpath[key] = path +  'ggH_HToSSTobbbb_MH-125_MS-40_ctau-'+str(ct)+'_137000pb_weighted.root'\n",
    "\n",
    "# fpath['hnl']= '/storage/af/user/christiw/HNL_electronType_ms5p0_plVe2_1e-5/HeavyNeutralLepton_Tree.root'                        \n",
    "NEvents = {}\n",
    "NEvents_genweight = {}\n",
    "for k,v in fpath.items():\n",
    "    root_dir = uproot.open(v) \n",
    "    if not root_dir: \n",
    "        print(k, \"zombie\")\n",
    "        continue\n",
    "    tree[k] = root_dir['MuonSystem']\n"
   ]
  },
  {
   "cell_type": "code",
   "execution_count": 3,
   "metadata": {},
   "outputs": [
    {
     "data": {
      "text/plain": [
       "odict_keys(['data', 'MC_15_100', 'MC_15_1000', 'MC_15_10000', 'MC_15_100000', 'MC_40_100', 'MC_40_1000', 'MC_40_10000', 'MC_40_100000', 'MC_55_100', 'MC_55_1000', 'MC_55_10000', 'MC_55_100000'])"
      ]
     },
     "execution_count": 3,
     "metadata": {},
     "output_type": "execute_result"
    }
   ],
   "source": [
    "tree.keys()"
   ]
  },
  {
   "cell_type": "markdown",
   "metadata": {},
   "source": [
    "# Selections"
   ]
  },
  {
   "cell_type": "code",
   "execution_count": 4,
   "metadata": {},
   "outputs": [
    {
     "name": "stdout",
     "output_type": "stream",
     "text": [
      "data 2.0\n",
      "MC_15_100 28.192163\n",
      "MC_15_1000 3014.729\n",
      "MC_15_10000 2594.8542\n",
      "MC_15_100000 328.3366\n",
      "MC_40_100 28.192163\n",
      "MC_40_1000 3014.729\n",
      "MC_40_10000 2594.8542\n",
      "MC_40_100000 328.3366\n",
      "MC_55_100 28.192163\n",
      "MC_55_1000 3014.729\n",
      "MC_55_10000 2594.8542\n",
      "MC_55_100000 328.3366\n"
     ]
    }
   ],
   "source": [
    "deltaPhi = {}\n",
    "Nhits = {}\n",
    "weight = {}\n",
    "gLLP_ctau = {}\n",
    "\n",
    "\n",
    "for k, T in tree.items():\n",
    "    \n",
    "    ########### SELECTION: CLUSTERS ############\n",
    "\n",
    "    sel_rechitcluster = np.abs(T['cscRechitClusterEta'].array()) < 2.0\n",
    "\n",
    "    me1112_veto = 10\n",
    "    sel_rechitcluster = np.logical_and(sel_rechitcluster, T['cscRechitClusterNRechitChamberPlus11'].array() <= me1112_veto)\n",
    "    sel_rechitcluster = np.logical_and(sel_rechitcluster, T['cscRechitClusterNRechitChamberPlus12'].array() <= me1112_veto)\n",
    "    sel_rechitcluster = np.logical_and(sel_rechitcluster, T['cscRechitClusterNRechitChamberMinus11'].array() <= me1112_veto)\n",
    "    sel_rechitcluster = np.logical_and(sel_rechitcluster, T['cscRechitClusterNRechitChamberMinus12'].array() <= me1112_veto)\n",
    "\n",
    "    sel_rechitcluster = np.logical_and(sel_rechitcluster, T['cscRechitCluster_match_MB1Seg_0p4'].array() <= me1112_veto)\n",
    "    sel_rechitcluster = np.logical_and(sel_rechitcluster, T['cscRechitCluster_match_RE12_0p4'].array() <= me1112_veto)\n",
    "    sel_rechitcluster = np.logical_and(sel_rechitcluster, T['cscRechitCluster_match_RB1_0p4'].array() <= me1112_veto)\n",
    "\n",
    "    sel_rechitcluster = np.logical_and( sel_rechitcluster, T['cscRechitClusterJetVetoPt'].array() < 10)\n",
    "    sel_rechitcluster = np.logical_and( sel_rechitcluster, T['cscRechitClusterMuonVetoPt'].array() < 20)\n",
    "    sel_rechitcluster = np.logical_and(sel_rechitcluster, T['cscRechitClusterTimeSpreadWeightedAll'].array() <= 20)\n",
    "\n",
    "    sel_rechitcluster = np.logical_and(sel_rechitcluster, np.logical_and(T['cscRechitClusterTimeWeighted'].array() < 12.5, \\\n",
    "                                                                         T['cscRechitClusterTimeWeighted'].array() > -5.0))\n",
    "\n",
    "    ########### SELECTION: JETS ############\n",
    "\n",
    "    sel_jet = np.logical_and(T['jetPt'].array() > 30, np.abs(T['jetEta'].array()) < 2.4 )\n",
    "    sel_jet = np.logical_and(sel_jet, T['jetTightPassId'].array())\n",
    "\n",
    "    ########### SELECTION: EVENTS ############\n",
    "    # select only triggered events\n",
    "    sel_ev = T['METNoMuTrigger'].array()\n",
    "\n",
    "    sel_ev  = np.logical_and(sel_ev,np.sum(sel_rechitcluster,axis=1) >= 1)\n",
    "    # sel_ev[k] = np.logical_and(sel_ev[k], (T['nDtRings')+T['nCscRings'))<10) # apply this in the ntuple before hand\n",
    "    sel_ev = np.logical_and(sel_ev ,T['metEENoise'].array() > 200)\n",
    "    sel_ev = np.logical_and(sel_ev , np.sum(sel_jet,axis=1)>=1)\n",
    "    sel_ev = np.logical_and(sel_ev,T['Flag2_all'].array())\n",
    "\n",
    "\n",
    "    ##### cut based ID ####\n",
    "    cscRechitClusterNStation = T['cscRechitClusterNStation10'].array()[sel_rechitcluster][sel_ev][:,0]\n",
    "    cscRechitClusterEta = T['cscRechitClusterEta'].array()[sel_rechitcluster][sel_ev][:,0]\n",
    "    cscRechitClusterPhi = T['cscRechitClusterPhi'].array()[sel_rechitcluster][sel_ev][:,0]\n",
    "    cscRechitClusterAvgStation = T['cscRechitClusterAvgStation10'].array()[sel_rechitcluster][sel_ev][:,0]\n",
    "    cond2 = np.logical_and(np.abs(cscRechitClusterAvgStation)==2, np.abs(cscRechitClusterEta) < 1.6)\n",
    "    cond3 = np.logical_and(np.abs(cscRechitClusterAvgStation)==3, np.abs(cscRechitClusterEta) < 1.6)\n",
    "    cond4 = np.logical_and(np.abs(cscRechitClusterAvgStation)==4, np.abs(cscRechitClusterEta) < 1.8)\n",
    "    cond1 = np.logical_and(cscRechitClusterNStation==1, np.logical_or(np.logical_or(np.abs(cscRechitClusterAvgStation)==1, cond2), np.logical_or(cond3, cond4)))\n",
    "    cond2 = np.logical_and(cscRechitClusterNStation > 1, np.abs(cscRechitClusterEta) < 1.9)\n",
    "    bdt_sel = np.logical_or(np.logical_or(cond1, cond2), np.logical_or(cond3, cond4))\n",
    "\n",
    "    #### Save variables needed for ABCD ####                                   \n",
    "\n",
    "    deltaPhi[k] = T['cscRechitClusterMetEENoise_dPhi'].array()[sel_rechitcluster][sel_ev][:,0][bdt_sel]\n",
    "    Nhits[k] = T['cscRechitClusterSize'].array()[sel_rechitcluster][sel_ev][:,0][bdt_sel]\n",
    "    weight[k] = T['weight'].array()[sel_ev][bdt_sel]\n",
    "#                  *T.array('pileupWeight')*T.array('metSF'))[sel_ev][bdt_sel]\n",
    "    gLLP_ctau[k] = T['gLLP_ctau'].array()[sel_ev][bdt_sel]\n",
    "    print(k, np.sum(weight[k]))"
   ]
  },
  {
   "cell_type": "markdown",
   "metadata": {},
   "source": [
    "# signal uncertainties"
   ]
  },
  {
   "cell_type": "code",
   "execution_count": 11,
   "metadata": {},
   "outputs": [],
   "source": [
    "muonVeto = {}\n",
    "cut_based_eff_unc = {}\n",
    "clusterEff_unc = {}\n",
    "higgsPtWeight = {}\n",
    "JES = {}\n",
    "pileup = {}\n",
    "# ctau_reweight = {}\n",
    "mc_stats = {}\n",
    "lumi = {}\n",
    "time_spread = {}\n",
    "\n",
    "ggH_higgsPt = {}\n",
    "ggH_qcdScale = {}\n",
    "ggH_pdf = {}\n",
    "\n",
    "cut_based_unc = [0.0921, 0.0852] # muon Eta reweighted\n",
    "clustering_unc = [0.1506, 0.1047]\n",
    "\n",
    "for m in mass:\n",
    "    for ct in OLD_CTAU:\n",
    "            key = 'MC_'+str(m)+'_'+str(ct)         \n",
    "\n",
    "            lumi[key] = [0.018]*4\n",
    "            muonVeto[key] = [0.045]*4\n",
    "            time_spread[key] = [0.028]*4\n",
    "            clusterEff_unc[key]  = [0.035] * 4 #shifting Nrechit cut from 130 to 135\n",
    "            cut_based_eff_unc[key]=[0.051]*4 #muon eta reweighted\n",
    "            JES[key] = [0.084,0.083,0.042,0.041]\n",
    "            pileup[key] = [0.008, 0.0110, 0.0110, 0.0110]\n",
    "            \n",
    "            ggH_higgsPt[key] = [0.208, 0.205, 0.205,0.207,0.134, 0.133,0.133,0.134] #down*4/up*4\n",
    "            ggH_qcdScale[key] = [0.067]*4+[0.046]*4 #down/up\n",
    "            ggH_pdf[key] = [0.032]*4\n",
    "\n",
    "\n",
    "\n",
    "sig_unc_temp = [lumi, muonVeto, time_spread, cut_based_eff_unc, clusterEff_unc, JES,pileup, \\\n",
    "           ggH_higgsPt, ggH_qcdScale, ggH_pdf]\n",
    "sig_unc_name = ['lumi','muonVeto','time_spread','cut_based_eff_unc', 'clusterEff_unc', 'JES','pileup', \\\n",
    "                'ggH_higgsPt', 'ggH_qcdScale', 'ggH_pdf']\n",
    "\n",
    "\n",
    "assert(len(sig_unc_temp)==len(sig_unc_name))"
   ]
  },
  {
   "cell_type": "markdown",
   "metadata": {},
   "source": [
    "# make datacard"
   ]
  },
  {
   "cell_type": "code",
   "execution_count": 12,
   "metadata": {
    "scrolled": false
   },
   "outputs": [
    {
     "name": "stdout",
     "output_type": "stream",
     "text": [
      "[0 0 2 4]\n",
      "/uscms_data/d3/christiw/CMSSW_11_3_4/src/HiggsAnalysis/MuonSystemLimit/combine/datacards/\n"
     ]
    }
   ],
   "source": [
    "\n",
    "import importlib\n",
    "import helper\n",
    "importlib.reload(sys.modules['helper'])\n",
    "from helper import  weight_calc, make_datacard\n",
    "\n",
    "N_RECHIT_CUT = 130\n",
    "DPHI_CUT = 0.75\n",
    "\n",
    "ctaus = ['5','10','15','20','30','40', '50','60', '100', '125','150','200','300','500','600','700','800','900','1000', '2000','3000','4000', '5000', '6000','7000','8000','10000', '20000','30000','50000',\\\n",
    "         '100000', '200000', '300000', '500000', '1000000', '2000000', '3000000', '5000000', '6000000', '10000000'] #mm\n",
    "\n",
    "bkg_unc = [] #ABCD closure, sum of stats from two VR\n",
    "bkg_unc_name = []\n",
    "\n",
    "\n",
    "bkg = []\n",
    "bkg_unc = []\n",
    "\n",
    "k = 'data'\n",
    "a = np.count_nonzero(np.logical_and(Nhits[k] >= N_RECHIT_CUT, deltaPhi[k] < DPHI_CUT)) \n",
    "b = np.count_nonzero(np.logical_and(Nhits[k] >= N_RECHIT_CUT, deltaPhi[k] >= DPHI_CUT))\n",
    "c = np.count_nonzero(np.logical_and(Nhits[k] < N_RECHIT_CUT, deltaPhi[k] >= DPHI_CUT)) \n",
    "d = np.count_nonzero(np.logical_and(Nhits[k] < N_RECHIT_CUT, deltaPhi[k] < DPHI_CUT)) \n",
    "observation= np.array([a,b,c,d])\n",
    "print(observation)\n",
    "\n",
    "#####\n",
    "# start adding signal\n",
    "#####\n",
    "outDataCardsDir = '/uscms_data/d3/christiw/CMSSW_11_3_4/src/HiggsAnalysis/MuonSystemLimit/combine/datacards/'\n",
    "if not os.path.isdir(outDataCardsDir):os.makedirs(outDataCardsDir)\n",
    "print(outDataCardsDir)\n",
    "sig_norm = []\n",
    "for m in mass:\n",
    "    for ct in ctaus:\n",
    "        modelName = 'ggH_HToSSTo'+decay+ '_mh125_mx'+str(m)+'_ctau'+str(ct)+'mm'\n",
    "\n",
    "        \n",
    "        signal_rate = []\n",
    "        mc_stat_unc = []\n",
    "        gmn = []\n",
    "        sig_unc = []\n",
    "\n",
    "        ctf = int(ct)\n",
    "        ct0 = 10**math.ceil(math.log10(ctf))\n",
    "        ct0 = max(ct0, OLD_CTAU[0])\n",
    "        ct0 = min(ct0, OLD_CTAU[-1])\n",
    "        k = 'MC_'+str(m)+'_'+str(ct0)\n",
    "        weight_ctau = weight_calc(gLLP_ctau[k], int(ct)/10, int(ct0)/10) # convert everything to cm\n",
    "\n",
    "        w = weight[k]*weight_ctau\n",
    "        cond = np.logical_and(Nhits[k]>=N_RECHIT_CUT, deltaPhi[k]<DPHI_CUT)\n",
    "        signal_rate.append(np.sum(w[cond]))\n",
    "        \n",
    "        cond = np.logical_and(Nhits[k]>=N_RECHIT_CUT, deltaPhi[k]>=DPHI_CUT)\n",
    "        signal_rate.append(np.sum(w[cond]))\n",
    "        \n",
    "        cond = np.logical_and(Nhits[k]<N_RECHIT_CUT, deltaPhi[k]>=DPHI_CUT)\n",
    "        signal_rate.append(np.sum(w[cond]))\n",
    "        \n",
    "        cond = np.logical_and(Nhits[k]<N_RECHIT_CUT, deltaPhi[k]<DPHI_CUT)\n",
    "        signal_rate.append(np.sum(w[cond]))\n",
    "              \n",
    "        for j, ele in enumerate(sig_unc_temp):sig_unc.append(ele[k])\n",
    "            \n",
    "        make_datacard(outDataCardsDir, modelName, signal_rate, observation, sig_unc, sig_unc_name)\n"
   ]
  },
  {
   "cell_type": "code",
   "execution_count": null,
   "metadata": {},
   "outputs": [],
   "source": []
  },
  {
   "cell_type": "code",
   "execution_count": null,
   "metadata": {},
   "outputs": [],
   "source": []
  }
 ],
 "metadata": {
  "kernelspec": {
   "display_name": "Python 3 (ipykernel)",
   "language": "python",
   "name": "python3"
  },
  "language_info": {
   "codemirror_mode": {
    "name": "ipython",
    "version": 3
   },
   "file_extension": ".py",
   "mimetype": "text/x-python",
   "name": "python",
   "nbconvert_exporter": "python",
   "pygments_lexer": "ipython3",
   "version": "3.9.12"
  }
 },
 "nbformat": 4,
 "nbformat_minor": 4
}
