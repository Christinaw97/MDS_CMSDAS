{
 "cells": [
  {
   "cell_type": "code",
   "execution_count": 1,
   "metadata": {},
   "outputs": [
    {
     "name": "stdout",
     "output_type": "stream",
     "text": [
      "Welcome to JupyROOT 6.28/00\n",
      "3.9.12 (main, Jun  7 2022, 16:09:12) \n",
      "[GCC 11.2.0]\n"
     ]
    }
   ],
   "source": [
    "import ROOT as rt\n",
    "import uproot\n",
    "import numpy as np\n",
    "import os\n",
    "import sys\n",
    "sys.path.append(os.getcwd().replace('scripts', 'lib'))\n",
    "\n",
    "import tdrstyle\n",
    "a = tdrstyle.setTDRStyle()\n",
    "\n",
    "print(sys.version)"
   ]
  },
  {
   "cell_type": "markdown",
   "metadata": {},
   "source": [
    "# load a signal ntuple\n",
    "In this ntuple, the DBSCAN algorithm is already performed to reconstruct clusters from rechits, so only clusters and the cluster properties that you've seen in the previous exercise are stored"
   ]
  },
  {
   "cell_type": "code",
   "execution_count": 2,
   "metadata": {},
   "outputs": [],
   "source": [
    "path = '/eos/uscms/store/user/cmsdas/2024/long_exercises/MDS/signal/nocuts/'\n",
    "root_dir =uproot.open(path + 'ggH_HToSSTobbbb_MH-125_MS-40_ctau-1000_137000pb_weighted.root')\n",
    "T = root_dir['MuonSystem']"
   ]
  },
  {
   "cell_type": "markdown",
   "metadata": {},
   "source": [
    "# Selections\n",
    "Here we will select for events that have only one LLP decaying in the CSCs and calculate the probabilty of a cluster being reconstructed given that an LLP decayed in the CSC.\n",
    "You will use the following branches:\n",
    "* `gLLP_csc`: Boolean, a LLP-level variable that tells you whether an LLP decayed in CSC\n",
    "* `gLLP_decay_vertex_z`: LLP-level variable that returns LLP lab frame decay vertex in Z [cm]\n",
    "* `cscRechitCluster_match_gLLP_csc`: Boolean, cluster-level variable that returns true of the cluster is matched to an LLP ($\\Delta R (cluster, LLP) < 0.4$) that decayed in CSC\n",
    "* `cscRechitCluster_match_gLLP_decay_z`: float, cluster-level variable that returns the LLP decay vertex in z if its matched to an LLP\n",
    "\n",
    "You will need a list of LLP z positions for LLPs that decayed in CSC (`llp_z` below). <br>\n",
    "You will need a list of LLP z position for LLPs that decayed in CSC AND resulted in a reconstructed cluster (`cluster_z` below). <br>\n",
    "You will then plot the ratio of the two to calculate the cluster reconstruction efficiency."
   ]
  },
  {
   "cell_type": "code",
   "execution_count": 11,
   "metadata": {},
   "outputs": [],
   "source": [
    "########### SELECTION: Denominator ############\n",
    "\n",
    "sel_ev = np.sum(T['gLLP_csc'].array(),axis = 1) == 1\n",
    "sel_llp = T['gLLP_csc'].array()[sel_ev] == 1\n",
    "\n",
    "llp_z = list(np.abs(T['gLLP_decay_vertex_z'].array())[sel_ev][sel_llp][:,0])\n",
    "\n",
    "\n",
    "########### SELECTION: Nominator ############\n",
    "sel_rechitcluster = T['cscRechitCluster_match_gLLP_csc'].array()\n",
    "sel_ev = np.logical_and(sel_ev,np.sum(sel_rechitcluster, axis=1)==1)\n",
    "cluster_z = np.abs(T['cscRechitCluster_match_gLLP_decay_z'].array())[sel_rechitcluster][sel_ev][:,0]\n"
   ]
  },
  {
   "cell_type": "markdown",
   "metadata": {},
   "source": [
    "# Efficiency vs. Decay Position"
   ]
  },
  {
   "cell_type": "markdown",
   "metadata": {},
   "source": [
    "In this section, you will create a `TEfficiency` plot that takes two `TH1F` as inputs and returns the ratio of the two histograms.\n",
    "We will plot the cluster reconstruction efficiency with repect to the LLP decay position and overlay the steel region in the plot\n",
    "\n",
    "First fill in the two lines under `FILL IN HERE` to fill the histograms with lists `cluster_z` and `llp_z`.\n",
    "Then run the cell.\n",
    "After you get a plot, uncomment the code under `add gray region for steel` to overlay the position of the steel in the plot that will help you understand the trend in the efficiency plot.\n",
    "Do you understand why the efficiency drops at the two ends of the muon detectors?"
   ]
  },
  {
   "cell_type": "code",
   "execution_count": 14,
   "metadata": {},
   "outputs": [
    {
     "name": "stdout",
     "output_type": "stream",
     "text": [
      "Inclusive efficiency: 0.5900408129511344\n",
      "CPU times: user 24.5 s, sys: 40 ms, total: 24.6 s\n",
      "Wall time: 24.5 s\n"
     ]
    },
    {
     "name": "stderr",
     "output_type": "stream",
     "text": [
      "Warning in <TCanvas::Constructor>: Deleting canvas with same name: c\n"
     ]
    },
    {
     "data": {
      "image/png": "[encoded data removed]",
      "text/plain": [
       "<IPython.core.display.Image object>"
      ]
     },
     "metadata": {},
     "output_type": "display_data"
    }
   ],
   "source": [
    "%%time\n",
    "c = rt.TCanvas('c','c', 800, 600)\n",
    "\n",
    "h_nominator = rt.TH1D('', '', 35, 400, 1075)\n",
    "h_denominator = rt.TH1D('', '', 35, 400, 1075)\n",
    "h_denominator.SetXTitle('z decay position [cm]')\n",
    "h_denominator.SetYTitle('Cluster Efficiency')\n",
    "\n",
    "####### FILL IN HERE ########\n",
    "for i in range(len(cluster_z)): h_nominator.Fill()\n",
    "for i in range(len(llp_z)): h_denominator.Fill()\n",
    "###############################\n",
    "\n",
    "pEff1 = rt.TEfficiency(h_nominator,h_denominator)\n",
    "pEff1.SetLineColor(4)\n",
    "pEff1.SetLineWidth(3)\n",
    "pEff1.Draw()\n",
    "c.Draw()\n",
    "\n",
    "print(\"Inclusive efficiency: {}\".format(h_nominator.Integral()/h_denominator.Integral()))\n",
    "\n",
    "pEff1.GetPaintedGraph().GetHistogram().GetYaxis().SetTitleOffset(0.0);\n",
    "ymax = pEff1.GetPaintedGraph().GetHistogram().GetMaximum()\n",
    "ymin = pEff1.GetPaintedGraph().GetHistogram().GetMinimum()\n",
    "xmin = pEff1.GetPaintedGraph().GetHistogram().GetXaxis().GetXmin()\n",
    "xmax = pEff1.GetPaintedGraph().GetHistogram().GetXaxis().GetXmax()\n",
    "\n",
    "\n",
    "######## add gray region for steel ########\n",
    "\n",
    "# boxes = []\n",
    "# boxes.append(rt.TBox(xmin,ymin,568,ymax)) #in front of ME11\n",
    "# boxes.append(rt.TBox(632,ymin,671,ymax)) #between ME11 and ME12\n",
    "# boxes.append(rt.TBox(724,ymin,789,ymax)) #between ME12 and station2\n",
    "# boxes.append(rt.TBox(849,ymin,911,ymax)) #between station2 and station3\n",
    "# boxes.append(rt.TBox(970,ymin,1002,ymax)) #between station3 and station4\n",
    "# boxes.append(rt.TBox(1073,ymin,xmax,ymax)) #beyond CMS\n",
    "# for b in boxes:\n",
    "#     b.SetFillColor(15)\n",
    "#     b.SetFillStyle(3001)\n",
    "#     b.Draw('same')\n",
    "\n",
    "\n",
    "# l = rt.TLatex()\n",
    "# l.SetTextSize(0.08)\n",
    "# l.SetTextColor(12)\n",
    "# l.SetTextAngle(90)\n",
    "\n",
    "# l.DrawLatex(xmin+80, ymax*0.55, \"Steel\")\n",
    "\n",
    "# l2 = rt.TLatex()\n",
    "# l2.SetTextSize(0.06)\n",
    "# l2.SetTextColor(13)\n",
    "# l2.SetTextAngle(90)\n",
    "# l2.DrawLatex(1110, ymax*0.5, \"Beyond CMS\")\n",
    "# text = rt.TLatex()\n",
    "# text.SetTextSize(0.04)\n",
    "# text.DrawLatex(570, ymax*1.01, \"ME1/1\")\n",
    "# text.DrawLatex(660, ymax*1.01, \"ME1/2-3\")\n",
    "# text.DrawLatex(795, ymax*1.01, \"ME2\")\n",
    "# text.DrawLatex(920, ymax*1.01, \"ME3\")\n",
    "# text.DrawLatex(1015, ymax*1.01, \"ME4\")\n",
    "# pEff1.Draw('same')\n",
    "\n",
    "###############################################################"
   ]
  },
  {
   "cell_type": "code",
   "execution_count": null,
   "metadata": {},
   "outputs": [],
   "source": []
  }
 ],
 "metadata": {
  "kernelspec": {
   "display_name": "Python 3 (ipykernel)",
   "language": "python",
   "name": "python3"
  },
  "language_info": {
   "codemirror_mode": {
    "name": "ipython",
    "version": 3
   },
   "file_extension": ".py",
   "mimetype": "text/x-python",
   "name": "python",
   "nbconvert_exporter": "python",
   "pygments_lexer": "ipython3",
   "version": "3.9.12"
  }
 },
 "nbformat": 4,
 "nbformat_minor": 4
}
