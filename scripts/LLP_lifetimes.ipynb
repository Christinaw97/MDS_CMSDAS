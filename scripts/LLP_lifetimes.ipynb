{
 "cells": [
  {
   "cell_type": "code",
   "execution_count": null,
   "id": "94f2bec9",
   "metadata": {},
   "outputs": [],
   "source": [
    "import ROOT as rt\n",
    "import uproot\n",
    "import numpy as np\n",
    "from collections import OrderedDict\n",
    "import os\n",
    "import sys\n",
    "from array import array\n",
    "sys.path.append(os.getcwd().replace('scripts', 'lib'))\n",
    "\n",
    "import tdrstyle\n",
    "a = tdrstyle.setTDRStyle()\n",
    "\n",
    "print(sys.version)"
   ]
  },
  {
   "cell_type": "markdown",
   "id": "bde65778",
   "metadata": {},
   "source": [
    "# load signal ntuples"
   ]
  },
  {
   "cell_type": "markdown",
   "id": "5b7d181a",
   "metadata": {},
   "source": [
    "Load signal ntuples with 4 different LLP lifetimes (0.1, 1, 10, 100m) that contain generator-level LLP information"
   ]
  },
  {
   "cell_type": "code",
   "execution_count": null,
   "id": "eba8b560",
   "metadata": {},
   "outputs": [],
   "source": [
    "fpath =OrderedDict()\n",
    "tree = OrderedDict()\n",
    "\n",
    "mass = [40]\n",
    "\n",
    "OLD_CTAU = np.array([100, 1000, 10000, 100000])#in mm\n",
    "\n",
    "path = '/eos/uscms/store/user/cmsdas/2024/long_exercises/MDS/signal/nocuts/'\n",
    "\n",
    "for ct in OLD_CTAU:\n",
    "    key = 'MC_40_'+str(ct)                       \n",
    "    fpath[key] = path +  'ggH_HToSSTobbbb_MH-125_MS-40_ctau-'+str(ct)+'_137000pb_weighted.root'\n",
    "\n",
    "    \n",
    "NEvents = {}\n",
    "NEvents_genweight = {}\n",
    "for k,v in fpath.items():\n",
    "    root_dir = uproot.open(v) \n",
    "    if not root_dir: \n",
    "        print(k, \"zombie\")\n",
    "        continue\n",
    "    tree[k] = root_dir['MuonSystem']\n"
   ]
  },
  {
   "cell_type": "markdown",
   "id": "be28af9b",
   "metadata": {},
   "source": [
    "# Ex1 - calculate the LLP proper decay length from the LLP four momentum"
   ]
  },
  {
   "cell_type": "markdown",
   "id": "a471a235",
   "metadata": {},
   "source": [
    "Here you will calculate the LLP proper decay length by converting from the lab frame decay length to the decay length in the LLP's rest frame, with the following equation:\n",
    "$d = \\beta\\gamma\\tau$, where d is the lab frame decay length, $\\beta$ is the LLP velocity, $\\gamma$ is the LLP Lorentz factor, and $\\tau$ is the LLP proper decay lifetime.\n",
    "\n",
    "You will use the following branches in the ROOT tree \n",
    "* `gLLP_decay_vertex_x`, in units of cm\n",
    "* `gLLP_decay_vertex_y`, in units of cm\n",
    "* `gLLP_decay_vertex_z`, in units of cm\n",
    "* `gLLP_beta` , ranges from 0 to 1\n",
    "\n",
    "and you can access a branch by doing `T['branch name'].array()` below, for example to access `gLLP_beta` with `T['gLLP_beta'].array()`. The shape of the LLP-level branches is (number of LLPs, 2), because there are two LLPs per event."
   ]
  },
  {
   "cell_type": "markdown",
   "id": "aa8c0c92",
   "metadata": {},
   "source": [
    "#### Fill in the righthand side of each equation below with the 4 branches mentioned to calculate the proper decay length"
   ]
  },
  {
   "cell_type": "code",
   "execution_count": null,
   "id": "ae91f987",
   "metadata": {},
   "outputs": [],
   "source": [
    "gLLP_ctau = {}\n",
    "for k, T in tree.items():\n",
    "    gLLP_decay_vertex = \n",
    "    gLLP_gamma = \n",
    "    gLLP_ctau[k] = "
   ]
  },
  {
   "cell_type": "markdown",
   "id": "b2c6fa31",
   "metadata": {},
   "source": [
    "# Ex1 - plot the LLP proper decay length"
   ]
  },
  {
   "cell_type": "markdown",
   "id": "52051e39",
   "metadata": {},
   "source": [
    "In this exercise, you will plot the `gLLP_ctau` array for 1m and 10m sample.\n",
    "You will then perform an exponential fit to verify that the shape is exponential and linear in logY scale.\n",
    "\n",
    "From the exponential fit, you can extract the mean proper decay length of the LLP and verify that it agrees with what you expect from the sample (1m or 10m)\n",
    "\n",
    "You have to replace the `REPLACE_ME` variable below to fill in the correct variable to extract the fitted ctau by using the variable `fitted_slope`.\n",
    "Note that the unit in the tree branches are in cm, while the unit in the ROOT file names are in mm"
   ]
  },
  {
   "cell_type": "code",
   "execution_count": null,
   "id": "584cf784",
   "metadata": {},
   "outputs": [],
   "source": [
    "%%time\n",
    "\n",
    "Nevents_todraw = 10000\n",
    "c = rt.TCanvas('c','c', 800, 600)\n",
    "h = {}\n",
    "\n",
    "for i, k in enumerate([ 'MC_40_1000', 'MC_40_10000']):\n",
    "    h[k] = rt.TH1D('', '', 100, 0, 10000)\n",
    "    h[k].SetXTitle('LLP c#tau [cm]')\n",
    "    h[k].SetYTitle('fraction of events')\n",
    "    \n",
    "    # fill histograms \n",
    "    for j in range(Nevents_todraw): h[k].Fill(gLLP_ctau[k][j][0])\n",
    "    h[k].Scale(1./h[k].Integral()) #normalize histogram to 1\n",
    "    h[k].SetLineColor(i+1)\n",
    "    h[k].Draw('hist same')\n",
    "\n",
    "    ####### perform exponential fit ######\n",
    "    h[k].Fit('expo')\n",
    "    fit = h[k].GetFunction('expo')\n",
    "    fitted_slope = fit.GetParameter(1)\n",
    "    print(\"sample: {}, fitted ctau [mm]: {}\".format(k, REPLACE_ME))\n",
    "    #######################################\n",
    "    \n",
    "c.SetLogy()\n",
    "c.Draw()\n"
   ]
  },
  {
   "cell_type": "markdown",
   "id": "cdd3943b",
   "metadata": {},
   "source": [
    "# Ex2 - reweight LLP lifetime "
   ]
  },
  {
   "cell_type": "markdown",
   "id": "81bc265e",
   "metadata": {},
   "source": [
    "In this exercise you will learn how to reweight the LLP lifetime.\n",
    "\n",
    "In these signal events, there are two LLPs and the decay position of the two LLPs in each event are independent, and each LLP decays with an exponential probability, the distribution of events is simply the product of the two LLP decay probabilities:\n",
    "\\begin{equation}\n",
    "  p(t_1, t_2 | \\tau) = \\frac{1}{\\tau^2}\\exp^{-t_1/\\tau}\\exp^{-t_2/\\tau}\n",
    "\\end{equation}\n",
    "where $\\tau$ is the mean proper decay length of the LLPs, and $t_1$ and $t_2$ are the lifetimes of the first LLP and second LLP in their own rest frame respectively, which are the `gLLP_ctau` variable that you have calculated in Ex1.\n",
    "\n",
    "To obtain a sample with lifetime $\\tau_{new}$ from a sample with lifetime $\\tau_{old}$, we\n",
    "assign a weight, which is the ratio between equation above with parameter $\\tau_{new}$\n",
    "and:\n",
    "\\begin{equation}\n",
    "  w = (\\frac{\\tau_{old}}{\\tau_{new}})^2 \\exp[(t_1+t_2)\\times(\\frac{1}{\\tau_{old}}-\\frac{1}{\\tau_{new}})]\n",
    "\\end{equation}\n",
    "\n",
    "You will implement this equation in the function `weight_calc` below.\n",
    "The probability function for the $\\tau_{old}$ has been implemented, you will need to implement the nominator, and calculate the weight by taking tha ratio of the two probability function\n"
   ]
  },
  {
   "cell_type": "code",
   "execution_count": null,
   "id": "9a3c81f4",
   "metadata": {},
   "outputs": [],
   "source": [
    "'''\n",
    "arguements: \n",
    "llp_ctau is the list of sum of proper decay length, which is t1+t2 in the equation\n",
    "new_ctau is tau_new in the equation\n",
    "old_ctau is tau_old in the equation\n",
    "All units in cm\n",
    "\n",
    "return event weight \n",
    "\n",
    "'''\n",
    "\n",
    "\n",
    "def weight_calc(llp_ct, new_ctau, old_ctau):    \n",
    "    denominator = np.exp(-1.0*llp_ct/old_ctau)/old_ctau**2\n",
    "    nominator = # FILL IN HERE #\n",
    "    weight = # FILL IN HERE #\n",
    "    \n",
    "    return weight"
   ]
  },
  {
   "cell_type": "markdown",
   "id": "1305a443",
   "metadata": {},
   "source": [
    "## reweight from 10m to 1m"
   ]
  },
  {
   "cell_type": "markdown",
   "id": "73250f58",
   "metadata": {},
   "source": [
    "In this exercise you will use the reweighting function that you have just implemented to reweight the 10m sample to 1m and plot it against the original 1m sample to validate the reweighting function\n",
    "\n",
    "You will need to fill in the arguments for the `weight_calc()` function with `llp_ct` and the two lifetimes. Be sure to convert everything to cm.\n",
    "\n",
    "You will then perform an exponential fit to verify that the extracted mean proper decay length of the LLP is 1m for both by replacing the variable `REPLACE_ME`"
   ]
  },
  {
   "cell_type": "code",
   "execution_count": null,
   "id": "85626fb4",
   "metadata": {},
   "outputs": [],
   "source": [
    "%%time\n",
    "c = rt.TCanvas('c','c', 800, 600)\n",
    "h = {}\n",
    "Nevents_todraw = 10000\n",
    "\n",
    "for i, k in enumerate(['MC_40_1000', 'MC_40_10000']):\n",
    "    h[k] = rt.TH1D('', '', 100, 0, 1000)\n",
    "    h[k].SetXTitle('LLP c#tau [cm]')\n",
    "    h[k].SetYTitle('fraction of events')\n",
    "    \n",
    "    if k == 'MC_40_1000': \n",
    "        for j in range(Nevents_todraw): h[k].Fill(gLLP_ctau[k][j][0])\n",
    "    else: \n",
    "        llp_ct = np.sum(gLLP_ctau[k], axis = 1)\n",
    "        \n",
    "        # Fill in the arguments in weight_calc()\n",
    "        weight = weight_calc()\n",
    "        \n",
    "        \n",
    "        for j in range(Nevents_todraw): h[k].Fill(gLLP_ctau[k][j][0], weight[j])\n",
    "    \n",
    "    h[k].Scale(1./h[k].Integral())\n",
    "    h[k].SetLineColor(i+1)\n",
    "    h[k].Draw('hist same')\n",
    "    \n",
    "\n",
    "    ####### perform exponential fit ######\n",
    "    h[k].Fit('expo')\n",
    "    fit = h[k].GetFunction('expo')\n",
    "    fitted_slope = fit.GetParameter(1)\n",
    "    print(\"sample: {}, fitted ctau [mm]: {}\".format(k, REPLACE_ME))\n",
    "\n",
    "    #######################################\n",
    "    \n",
    "c.SetLogy()\n",
    "c.Draw()\n"
   ]
  },
  {
   "cell_type": "markdown",
   "id": "b7355d99",
   "metadata": {},
   "source": [
    "# Ex3 - Calculate the probability of LLP decaying in the muon system"
   ]
  },
  {
   "cell_type": "markdown",
   "id": "c1135a77",
   "metadata": {},
   "source": [
    "In this exercise you will calculate the probability of the LLP decaying in the muon system by requiring the LLP decay vertex lies within the Muon system.\n",
    "You will first define the geometric decay region of the muon system based on Fig. 4.1.1 on page 141 of the [Muon Detector Technical Design Report](https://cds.cern.ch/record/343814?ln=en) by replacing all the `REPLACE_ME` variables below.\n",
    "\n",
    "Then in the last line you will print the probability of LLP decaying in the endcap muon detectors for LLP mean proper decay lenegths (0.1, 1, 10, 100m) that have been generated.\n",
    "\n",
    "The probability should be on the order of 15-20% for the 1m and 10m sample"
   ]
  },
  {
   "cell_type": "code",
   "execution_count": null,
   "id": "d602ca12",
   "metadata": {},
   "outputs": [],
   "source": [
    "%%time\n",
    "\n",
    "for k, T in tree.items():\n",
    "    \n",
    "    # define endcap muon system region\n",
    "    sel_ms = np.abs(T['gLLP_eta'].array()) < REPLACE_ME\n",
    "    sel_ms = np.logical_and(sel_ms, np.abs(T['gLLP_decay_vertex_z'].array()) < REPLACE_ME)\n",
    "    sel_ms = np.logical_and(sel_ms, np.abs(T['gLLP_decay_vertex_z'].array()) > REPLACE_ME)\n",
    "    sel_ms = np.logical_and(sel_ms, np.abs(T['gLLP_decay_vertex_r'].array()) < REPLACE_ME)\n",
    "    \n",
    "    print(k, np.count_nonzero(np.sum(sel_ms, axis = 1))/len(sel_ms))"
   ]
  },
  {
   "cell_type": "markdown",
   "id": "fa8e4097",
   "metadata": {},
   "source": [
    "## calulate acceptance vs LLP mean proper decay length"
   ]
  },
  {
   "cell_type": "markdown",
   "id": "2115d067",
   "metadata": {},
   "source": [
    "Here we will extend on what we just did to calculate the acceptance for intermediate $c\\tau$ by calling the \n",
    "reweighting function that you've written in the previous exercise to calculate the probability for other intermediate proper decay lengths.\n",
    "\n",
    "You will fill in the definition of `sel_ms`, which is what you defined in the cell above and the arguments for `weight_calc()` to reweight to intermediate lifetimes in the `ctau_list`\n",
    "\n",
    "The list of acceptances for different `ctau` is then saved in the `acceptance` list"
   ]
  },
  {
   "cell_type": "code",
   "execution_count": null,
   "id": "13c1d1f0",
   "metadata": {},
   "outputs": [],
   "source": [
    "%%time\n",
    "\n",
    "ctau_list  = [100, 300, 500, 1000, 2000, 5000, 10000, 50000, 100000, 500000] #mm\n",
    "\n",
    "acceptance = []\n",
    "for ct in ctau_list:\n",
    "\n",
    "    # find which sample to use for reweighting\n",
    "    ct_source = 0\n",
    "    for i in OLD_CTAU:\n",
    "        if ct <= i: \n",
    "            ct_source = i\n",
    "            break\n",
    "    if ct_source == 0: ct_source = OLD_CTAU[-1]\n",
    "    print(ct, ct_source) #verify the correct sample is chosen\n",
    "    \n",
    "    T = tree['MC_40_{}'.format(ct_source)]\n",
    "    \n",
    "    ################## FILL IN HERE #################\n",
    "    sel_ms = # FILL IN HERE\n",
    "    weight = weight_calc()\n",
    "    \n",
    "    #################################################\n",
    "    \n",
    "    denominator = np.sum(weight)\n",
    "    nominator = np.sum(weight[np.sum(sel_ms, axis = 1)>0])\n",
    "    acceptance.append(nominator/denominator)\n",
    "    \n",
    "\n",
    "print(ctau_list, acceptance)"
   ]
  },
  {
   "cell_type": "markdown",
   "id": "8eeb2302",
   "metadata": {},
   "source": [
    "## plot acceptance vs LLP mean proper decay length\n",
    "here you will plot a `TGraph` with `ctau_list` on the x-axis and `acceptance` on the y-axis\n",
    "Documentation for `TGraph`: https://root.cern.ch/doc/master/classTGraph.html\n",
    "\n",
    "Do you understand the shape? Play around with the `ctau_list` to add more points to make the plot smoother!"
   ]
  },
  {
   "cell_type": "code",
   "execution_count": null,
   "id": "e5fce4f5",
   "metadata": {},
   "outputs": [],
   "source": [
    "%%time\n",
    "\n",
    "c = rt.TCanvas('c','c', 800, 800)\n",
    "c.SetRightMargin(0.04)\n",
    "\n",
    "h = rt.TGraph(len(ctau_list),array(\"d\", np.array(ctau_list)/1000.0), array(\"d\", acceptance))\n",
    "\n",
    "\n",
    "h.GetXaxis().SetTitle('c#tau [m]')\n",
    "h.GetYaxis().SetTitle('acceptance')\n",
    "h.GetXaxis().SetLimits(0.1,1000.0)\n",
    "h.GetYaxis().SetRangeUser(1e-3,2)\n",
    "\n",
    "h.GetXaxis().SetTitleOffset(1)\n",
    "h.GetYaxis().SetTitleSize(0.05)\n",
    "h.GetYaxis().SetTitleOffset(1.5)\n",
    "\n",
    "h.SetLineWidth(3)\n",
    "h.SetLineColor(4)\n",
    "h.SetMarkerColor(4)\n",
    "\n",
    "h.Draw('LPA')\n",
    "\n",
    "c.SetLogy()\n",
    "c.SetLogx()\n",
    "c.SetTicky(1)\n",
    "c.SetTickx(1)\n",
    "\n",
    "\n",
    "tdrstyle.setTDRStyle()\n",
    "c.Draw()"
   ]
  },
  {
   "cell_type": "code",
   "execution_count": null,
   "id": "743922b5",
   "metadata": {},
   "outputs": [],
   "source": []
  }
 ],
 "metadata": {
  "kernelspec": {
   "display_name": "Python 3 (ipykernel)",
   "language": "python",
   "name": "python3"
  },
  "language_info": {
   "codemirror_mode": {
    "name": "ipython",
    "version": 3
   },
   "file_extension": ".py",
   "mimetype": "text/x-python",
   "name": "python",
   "nbconvert_exporter": "python",
   "pygments_lexer": "ipython3",
   "version": "3.9.12"
  }
 },
 "nbformat": 4,
 "nbformat_minor": 5
}
