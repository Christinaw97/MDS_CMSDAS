{
 "cells": [
  {
   "cell_type": "code",
   "execution_count": 4,
   "id": "f6c8b018",
   "metadata": {},
   "outputs": [
    {
     "name": "stdout",
     "output_type": "stream",
     "text": [
      "3.9.12 (main, Jun  7 2022, 16:09:12) \n",
      "[GCC 11.2.0]\n"
     ]
    }
   ],
   "source": [
    "import ROOT as rt\n",
    "import uproot\n",
    "import numpy as np\n",
    "from collections import OrderedDict\n",
    "import csv\n",
    "import os\n",
    "import math\n",
    "import sys\n",
    "sys.path.append(\"/uscms/home/christiw/nobackup/CMSSW_11_3_4/src/MDS_CMSDAS2023/lib\")\n",
    "\n",
    "import importlib\n",
    "import helper\n",
    "importlib.reload(sys.modules['helper'])\n",
    "from helper import  weight_calc, make_datacard\n",
    "\n",
    "import tdrstyle\n",
    "a = tdrstyle.setTDRStyle()\n",
    "\n",
    "print(sys.version)"
   ]
  },
  {
   "cell_type": "code",
   "execution_count": 36,
   "id": "8f5652c4",
   "metadata": {},
   "outputs": [],
   "source": [
    "fpath =OrderedDict()\n",
    "tree = OrderedDict()\n",
    "\n",
    "mass = [40]\n",
    "\n",
    "OLD_CTAU = np.array([100, 1000, 10000, 100000])#in mm\n",
    "\n",
    "path = '/uscms/home/christiw/nobackup/CMSSW_11_3_4/src/MDS_CMSDAS2023/ntuples/'\n",
    "\n",
    "for ct in OLD_CTAU:\n",
    "    key = 'MC_40_'+str(ct)                       \n",
    "    fpath[key] = path +  'ggH_HToSSTobbbb_MH-125_MS-40_ctau-'+str(ct)+'_137000pb_weighted.root'\n",
    "\n",
    "NEvents = {}\n",
    "NEvents_genweight = {}\n",
    "for k,v in fpath.items():\n",
    "    root_dir = uproot.open(v) \n",
    "    if not root_dir: \n",
    "        print(k, \"zombie\")\n",
    "        continue\n",
    "    tree[k] = root_dir['MuonSystem']\n"
   ]
  },
  {
   "cell_type": "markdown",
   "id": "7495a73e",
   "metadata": {},
   "source": [
    "# calculate the LLP proper decay length from the LLP four momentum"
   ]
  },
  {
   "cell_type": "code",
   "execution_count": 16,
   "id": "1ae43c69",
   "metadata": {},
   "outputs": [],
   "source": [
    "gLLP_ctau = {}\n",
    "for k, T in tree.items():\n",
    "    gLLP_decay_vertex = np.sqrt(T['gLLP_decay_vertex_x'].array()**2 + T['gLLP_decay_vertex_y'].array()**2 + T['gLLP_decay_vertex_z'].array()**2)\n",
    "    gLLP_gamma = 1.0/np.sqrt(1-T['gLLP_beta'].array()**2)\n",
    "    gLLP_ctau[k] = gLLP_decay_vertex/(T['gLLP_beta'].array()*gLLP_gamma)\n",
    "    \n"
   ]
  },
  {
   "cell_type": "markdown",
   "id": "2d71b45b",
   "metadata": {},
   "source": [
    "# plot the LLP proper decay length"
   ]
  },
  {
   "cell_type": "code",
   "execution_count": 21,
   "id": "d0de687f",
   "metadata": {},
   "outputs": [
    {
     "name": "stdout",
     "output_type": "stream",
     "text": [
      "MC_40_1000 1165.0576459769288\n",
      "MC_40_10000 8070.427937213506\n",
      " FCN=861.423 FROM MIGRAD    STATUS=CONVERGED      42 CALLS          43 TOTAL\n",
      "                     EDM=4.32654e-07    STRATEGY= 1      ERROR MATRIX ACCURATE \n",
      "  EXT PARAMETER                                   STEP         FIRST   \n",
      "  NO.   NAME      VALUE            ERROR          SIZE      DERIVATIVE \n",
      "   1  Constant    -1.56972e-01   8.57023e-03   9.22889e-05  -1.09480e-01\n",
      "   2  Slope       -8.58327e-03   4.59068e-05   4.94054e-07  -2.67341e+01\n",
      " FCN=1340.71 FROM MIGRAD    STATUS=CONVERGED      62 CALLS          63 TOTAL\n",
      "                     EDM=3.84532e-07    STRATEGY= 1      ERROR MATRIX ACCURATE \n",
      "  EXT PARAMETER                                   STEP         FIRST   \n",
      "  NO.   NAME      VALUE            ERROR          SIZE      DERIVATIVE \n",
      "   1  Constant    -2.14058e+00   1.01307e-02   1.14041e-04  -7.20234e-02\n",
      "   2  Slope       -1.23909e-03   9.74364e-06   1.09666e-07   1.84845e+01\n"
     ]
    },
    {
     "name": "stderr",
     "output_type": "stream",
     "text": [
      "Warning in <TCanvas::Constructor>: Deleting canvas with same name: c\n"
     ]
    },
    {
     "data": {
      "image/png": "[encoded data removed]",
      "text/plain": [
       "<IPython.core.display.Image object>"
      ]
     },
     "metadata": {},
     "output_type": "display_data"
    }
   ],
   "source": [
    "c = rt.TCanvas('c','c', 800, 600)\n",
    "h = {}\n",
    "\n",
    "for i, k in enumerate(tree.keys()):\n",
    "    h[k] = rt.TH1D('', '', 100, 0, 10000)\n",
    "    h[k].SetXTitle('LLP c#tau [cm]')\n",
    "    h[k].SetYTitle('fraction of events')\n",
    "    for j in range(len(gLLP_ctau[k])): h[k].Fill(gLLP_ctau[k][j][0])\n",
    "    h[k].Scale(1./h[k].Integral())\n",
    "    h[k].SetLineColor(i+1)\n",
    "    h[k].Draw('hist same')\n",
    "    \n",
    "\n",
    "    ####### perform exponential fit ######\n",
    "    h[k].Fit('expo')\n",
    "    fit = h[k].GetFunction('expo')\n",
    "    print(k, -1./fit.GetParameter(1)*10)\n",
    "    #######################################\n",
    "    \n",
    "c.SetLogy()\n",
    "c.Draw()\n"
   ]
  },
  {
   "cell_type": "markdown",
   "id": "fba0c0eb",
   "metadata": {},
   "source": [
    "# reweight LLP lifetime "
   ]
  },
  {
   "cell_type": "code",
   "execution_count": 23,
   "id": "bde052e6",
   "metadata": {},
   "outputs": [],
   "source": [
    "def weight_calc(llp_ct, new_ctau, old_ctau):\n",
    "    source = np.exp(-1.0*llp_ct/old_ctau)/old_ctau**2\n",
    "    weight = 1.0/new_ctau**2 * np.exp(-1.0*llp_ct/new_ctau)/source\n",
    "    return weight"
   ]
  },
  {
   "cell_type": "code",
   "execution_count": 30,
   "id": "79b9b3f6",
   "metadata": {},
   "outputs": [
    {
     "name": "stdout",
     "output_type": "stream",
     "text": [
      "MC_40_1000 1274.2132422957952\n",
      "MC_40_10000 1032.9621053832093\n",
      " FCN=4104.9 FROM MIGRAD    STATUS=CONVERGED      69 CALLS          70 TOTAL\n",
      "                     EDM=5.01396e-11    STRATEGY= 1      ERROR MATRIX ACCURATE \n",
      "  EXT PARAMETER                                   STEP         FIRST   \n",
      "  NO.   NAME      VALUE            ERROR          SIZE      DERIVATIVE \n",
      "   1  Constant    -2.72208e+00   8.51163e-03   2.16374e-04  -1.25197e-03\n",
      "   2  Slope       -7.84798e-03   3.93412e-05   1.00011e-06  -2.85801e-01\n",
      " FCN=429.03 FROM MIGRAD    STATUS=CONVERGED      63 CALLS          64 TOTAL\n",
      "                     EDM=1.29678e-08    STRATEGY= 1      ERROR MATRIX ACCURATE \n",
      "  EXT PARAMETER                                   STEP         FIRST   \n",
      "  NO.   NAME      VALUE            ERROR          SIZE      DERIVATIVE \n",
      "   1  Constant    -2.32563e+00   2.55014e-02   1.51379e-04   2.99635e-03\n",
      "   2  Slope       -9.68090e-03   4.60636e-05   2.73401e-07   4.70266e+00\n"
     ]
    },
    {
     "name": "stderr",
     "output_type": "stream",
     "text": [
      "Warning in <TCanvas::Constructor>: Deleting canvas with same name: c\n"
     ]
    },
    {
     "data": {
      "image/png": "[encoded data removed]",
      "text/plain": [
       "<IPython.core.display.Image object>"
      ]
     },
     "metadata": {},
     "output_type": "display_data"
    }
   ],
   "source": [
    "# reweight from 10m to 1m\n",
    "\n",
    "c = rt.TCanvas('c','c', 800, 600)\n",
    "h = {}\n",
    "\n",
    "for i, k in enumerate(tree.keys()):\n",
    "    h[k] = rt.TH1D('', '', 100, 0, 1000)\n",
    "    h[k].SetXTitle('LLP c#tau [cm]')\n",
    "    h[k].SetYTitle('fraction of events')\n",
    "    if k == 'MC_40_1000': \n",
    "        for j in range(len(gLLP_ctau[k])): h[k].Fill(gLLP_ctau[k][j][0])\n",
    "    else: \n",
    "        weight = weight_calc(np.sum(gLLP_ctau[k], axis = 1), 100,1000)\n",
    "        for j in range(len(gLLP_ctau[k])): h[k].Fill(gLLP_ctau[k][j][0], weight[j])\n",
    "    h[k].Scale(1./h[k].Integral())\n",
    "    h[k].SetLineColor(i+1)\n",
    "    h[k].Draw('hist same')\n",
    "    \n",
    "\n",
    "    ####### perform exponential fit ######\n",
    "    h[k].Fit('expo')\n",
    "    fit = h[k].GetFunction('expo')\n",
    "    print(k, -1./fit.GetParameter(1)*10)\n",
    "\n",
    "    #######################################\n",
    "    \n",
    "c.SetLogy()\n",
    "c.Draw()\n"
   ]
  },
  {
   "cell_type": "code",
   "execution_count": 37,
   "id": "a4dd1327",
   "metadata": {},
   "outputs": [
    {
     "name": "stdout",
     "output_type": "stream",
     "text": [
      "MC_40_100 0.48330683624801274\n",
      "MC_40_1000 0.4630021986807915\n",
      "MC_40_10000 0.3425983037779491\n",
      "MC_40_100000 0.10125984251968503\n"
     ]
    }
   ],
   "source": [
    "# Calculate the probability of LLP decaying in the muon system\n",
    "for k, T in tree.items():\n",
    "    # define endcap muon system region\n",
    "\n",
    "    sel_ms = np.logical_and(T['gLLP_eta'].array() <2.4, np.abs(T['gLLP_decay_vertex_z'].array()) < 1100)\n",
    "    sel_ms = np.logical_and(sel_ms, np.abs(T['gLLP_decay_vertex_z'].array()) > 400)\n",
    "    sel_ms = np.logical_and(sel_ms, np.abs(T['gLLP_decay_vertex_r'].array()) < 695.5)\n",
    "    print(k, np.count_nonzero(np.sum(sel_ms, axis = 1))/len(sel_ms))"
   ]
  },
  {
   "cell_type": "code",
   "execution_count": null,
   "id": "08d13b48",
   "metadata": {},
   "outputs": [],
   "source": []
  }
 ],
 "metadata": {
  "kernelspec": {
   "display_name": "Python 3 (ipykernel)",
   "language": "python",
   "name": "python3"
  },
  "language_info": {
   "codemirror_mode": {
    "name": "ipython",
    "version": 3
   },
   "file_extension": ".py",
   "mimetype": "text/x-python",
   "name": "python",
   "nbconvert_exporter": "python",
   "pygments_lexer": "ipython3",
   "version": "3.9.12"
  }
 },
 "nbformat": 4,
 "nbformat_minor": 5
}
